{
 "cells": [
  {
   "cell_type": "code",
   "execution_count": 109,
   "metadata": {
    "scrolled": false
   },
   "outputs": [
    {
     "name": "stdout",
     "output_type": "stream",
     "text": [
      "The autoreload extension is already loaded. To reload it, use:\n",
      "  %reload_ext autoreload\n"
     ]
    }
   ],
   "source": [
    "# These lines allow to work more easily on our module while using the notebook\n",
    "%load_ext autoreload\n",
    "%reload_ext autoreload\n",
    "%autoreload 2\n",
    "import numpy as np\n",
    "from importlib import reload\n",
    "import model\n",
    "import agents\n",
    "from time import sleep\n",
    "import matplotlib.pyplot as plt"
   ]
  },
  {
   "cell_type": "code",
   "execution_count": 66,
   "metadata": {
    "scrolled": false
   },
   "outputs": [
    {
     "data": {
      "text/html": [
       "<svg width=\"300\" height=\"140\"><rect x=\"0\" y=\"0\" width=\"20\" height=\"20\" style=\"fill:grey;stroke:black\" /><rect x=\"0\" y=\"20\" width=\"20\" height=\"20\" style=\"fill:grey;stroke:black\" /><rect x=\"0\" y=\"40\" width=\"20\" height=\"20\" style=\"fill:grey;stroke:black\" /><rect x=\"0\" y=\"60\" width=\"20\" height=\"20\" style=\"fill:grey;stroke:black\" /><rect x=\"0\" y=\"80\" width=\"20\" height=\"20\" style=\"fill:grey;stroke:black\" /><rect x=\"0\" y=\"100\" width=\"20\" height=\"20\" style=\"fill:grey;stroke:black\" /><rect x=\"0\" y=\"120\" width=\"20\" height=\"20\" style=\"fill:grey;stroke:black\" /><rect x=\"20\" y=\"0\" width=\"20\" height=\"20\" style=\"fill:grey;stroke:black\" /><rect x=\"20\" y=\"20\" width=\"20\" height=\"20\" style=\"fill:white;stroke:black\" /><rect x=\"20\" y=\"40\" width=\"20\" height=\"20\" style=\"fill:white;stroke:black\" /><rect x=\"20\" y=\"60\" width=\"20\" height=\"20\" style=\"fill:white;stroke:black\" /><rect x=\"20\" y=\"80\" width=\"20\" height=\"20\" style=\"fill:white;stroke:black\" /><rect x=\"20\" y=\"100\" width=\"20\" height=\"20\" style=\"fill:white;stroke:black\" /><rect x=\"20\" y=\"120\" width=\"20\" height=\"20\" style=\"fill:grey;stroke:black\" /><rect x=\"40\" y=\"0\" width=\"20\" height=\"20\" style=\"fill:grey;stroke:black\" /><rect x=\"40\" y=\"20\" width=\"20\" height=\"20\" style=\"fill:white;stroke:black\" /><rect x=\"40\" y=\"40\" width=\"20\" height=\"20\" style=\"fill:white;stroke:black\" /><rect x=\"40\" y=\"60\" width=\"20\" height=\"20\" style=\"fill:white;stroke:black\" /><rect x=\"40\" y=\"80\" width=\"20\" height=\"20\" style=\"fill:white;stroke:black\" /><rect x=\"40\" y=\"100\" width=\"20\" height=\"20\" style=\"fill:white;stroke:black\" /><rect x=\"40\" y=\"120\" width=\"20\" height=\"20\" style=\"fill:white;stroke:black\" /><rect x=\"60\" y=\"0\" width=\"20\" height=\"20\" style=\"fill:grey;stroke:black\" /><rect x=\"60\" y=\"20\" width=\"20\" height=\"20\" style=\"fill:white;stroke:black\" /><rect x=\"60\" y=\"40\" width=\"20\" height=\"20\" style=\"fill:white;stroke:black\" /><rect x=\"60\" y=\"60\" width=\"20\" height=\"20\" style=\"fill:white;stroke:black\" /><rect x=\"60\" y=\"80\" width=\"20\" height=\"20\" style=\"fill:white;stroke:black\" /><rect x=\"60\" y=\"100\" width=\"20\" height=\"20\" style=\"fill:white;stroke:black\" /><rect x=\"60\" y=\"120\" width=\"20\" height=\"20\" style=\"fill:white;stroke:black\" /><rect x=\"80\" y=\"0\" width=\"20\" height=\"20\" style=\"fill:grey;stroke:black\" /><rect x=\"80\" y=\"20\" width=\"20\" height=\"20\" style=\"fill:grey;stroke:black\" /><rect x=\"80\" y=\"40\" width=\"20\" height=\"20\" style=\"fill:white;stroke:black\" /><rect x=\"80\" y=\"60\" width=\"20\" height=\"20\" style=\"fill:white;stroke:black\" /><rect x=\"80\" y=\"80\" width=\"20\" height=\"20\" style=\"fill:white;stroke:black\" /><rect x=\"80\" y=\"100\" width=\"20\" height=\"20\" style=\"fill:white;stroke:black\" /><rect x=\"80\" y=\"120\" width=\"20\" height=\"20\" style=\"fill:grey;stroke:black\" /><rect x=\"100\" y=\"0\" width=\"20\" height=\"20\" style=\"fill:grey;stroke:black\" /><rect x=\"100\" y=\"20\" width=\"20\" height=\"20\" style=\"fill:white;stroke:black\" /><rect x=\"100\" y=\"40\" width=\"20\" height=\"20\" style=\"fill:white;stroke:black\" /><rect x=\"100\" y=\"60\" width=\"20\" height=\"20\" style=\"fill:white;stroke:black\" /><rect x=\"100\" y=\"80\" width=\"20\" height=\"20\" style=\"fill:white;stroke:black\" /><rect x=\"100\" y=\"100\" width=\"20\" height=\"20\" style=\"fill:white;stroke:black\" /><rect x=\"100\" y=\"120\" width=\"20\" height=\"20\" style=\"fill:grey;stroke:black\" /><rect x=\"120\" y=\"0\" width=\"20\" height=\"20\" style=\"fill:grey;stroke:black\" /><rect x=\"120\" y=\"20\" width=\"20\" height=\"20\" style=\"fill:white;stroke:black\" /><rect x=\"120\" y=\"40\" width=\"20\" height=\"20\" style=\"fill:white;stroke:black\" /><rect x=\"120\" y=\"60\" width=\"20\" height=\"20\" style=\"fill:white;stroke:black\" /><rect x=\"120\" y=\"80\" width=\"20\" height=\"20\" style=\"fill:white;stroke:black\" /><rect x=\"120\" y=\"100\" width=\"20\" height=\"20\" style=\"fill:white;stroke:black\" /><rect x=\"120\" y=\"120\" width=\"20\" height=\"20\" style=\"fill:grey;stroke:black\" /><rect x=\"140\" y=\"0\" width=\"20\" height=\"20\" style=\"fill:grey;stroke:black\" /><rect x=\"140\" y=\"20\" width=\"20\" height=\"20\" style=\"fill:white;stroke:black\" /><rect x=\"140\" y=\"40\" width=\"20\" height=\"20\" style=\"fill:white;stroke:black\" /><rect x=\"140\" y=\"60\" width=\"20\" height=\"20\" style=\"fill:white;stroke:black\" /><rect x=\"140\" y=\"80\" width=\"20\" height=\"20\" style=\"fill:white;stroke:black\" /><rect x=\"140\" y=\"100\" width=\"20\" height=\"20\" style=\"fill:white;stroke:black\" /><rect x=\"140\" y=\"120\" width=\"20\" height=\"20\" style=\"fill:grey;stroke:black\" /><rect x=\"160\" y=\"0\" width=\"20\" height=\"20\" style=\"fill:grey;stroke:black\" /><rect x=\"160\" y=\"20\" width=\"20\" height=\"20\" style=\"fill:white;stroke:black\" /><rect x=\"160\" y=\"40\" width=\"20\" height=\"20\" style=\"fill:white;stroke:black\" /><rect x=\"160\" y=\"60\" width=\"20\" height=\"20\" style=\"fill:white;stroke:black\" /><rect x=\"160\" y=\"80\" width=\"20\" height=\"20\" style=\"fill:white;stroke:black\" /><rect x=\"160\" y=\"100\" width=\"20\" height=\"20\" style=\"fill:white;stroke:black\" /><rect x=\"160\" y=\"120\" width=\"20\" height=\"20\" style=\"fill:grey;stroke:black\" /><rect x=\"180\" y=\"0\" width=\"20\" height=\"20\" style=\"fill:grey;stroke:black\" /><rect x=\"180\" y=\"20\" width=\"20\" height=\"20\" style=\"fill:white;stroke:black\" /><rect x=\"180\" y=\"40\" width=\"20\" height=\"20\" style=\"fill:white;stroke:black\" /><rect x=\"180\" y=\"60\" width=\"20\" height=\"20\" style=\"fill:white;stroke:black\" /><rect x=\"180\" y=\"80\" width=\"20\" height=\"20\" style=\"fill:white;stroke:black\" /><rect x=\"180\" y=\"100\" width=\"20\" height=\"20\" style=\"fill:white;stroke:black\" /><rect x=\"180\" y=\"120\" width=\"20\" height=\"20\" style=\"fill:grey;stroke:black\" /><rect x=\"200\" y=\"0\" width=\"20\" height=\"20\" style=\"fill:grey;stroke:black\" /><rect x=\"200\" y=\"20\" width=\"20\" height=\"20\" style=\"fill:grey;stroke:black\" /><rect x=\"200\" y=\"40\" width=\"20\" height=\"20\" style=\"fill:white;stroke:black\" /><rect x=\"200\" y=\"60\" width=\"20\" height=\"20\" style=\"fill:white;stroke:black\" /><rect x=\"200\" y=\"80\" width=\"20\" height=\"20\" style=\"fill:white;stroke:black\" /><rect x=\"200\" y=\"100\" width=\"20\" height=\"20\" style=\"fill:white;stroke:black\" /><rect x=\"200\" y=\"120\" width=\"20\" height=\"20\" style=\"fill:grey;stroke:black\" /><rect x=\"220\" y=\"0\" width=\"20\" height=\"20\" style=\"fill:grey;stroke:black\" /><rect x=\"220\" y=\"20\" width=\"20\" height=\"20\" style=\"fill:white;stroke:black\" /><rect x=\"220\" y=\"40\" width=\"20\" height=\"20\" style=\"fill:white;stroke:black\" /><rect x=\"220\" y=\"60\" width=\"20\" height=\"20\" style=\"fill:white;stroke:black\" /><rect x=\"220\" y=\"80\" width=\"20\" height=\"20\" style=\"fill:white;stroke:black\" /><rect x=\"220\" y=\"100\" width=\"20\" height=\"20\" style=\"fill:white;stroke:black\" /><rect x=\"220\" y=\"120\" width=\"20\" height=\"20\" style=\"fill:white;stroke:black\" /><rect x=\"240\" y=\"0\" width=\"20\" height=\"20\" style=\"fill:grey;stroke:black\" /><rect x=\"240\" y=\"20\" width=\"20\" height=\"20\" style=\"fill:white;stroke:black\" /><rect x=\"240\" y=\"40\" width=\"20\" height=\"20\" style=\"fill:white;stroke:black\" /><rect x=\"240\" y=\"60\" width=\"20\" height=\"20\" style=\"fill:white;stroke:black\" /><rect x=\"240\" y=\"80\" width=\"20\" height=\"20\" style=\"fill:white;stroke:black\" /><rect x=\"240\" y=\"100\" width=\"20\" height=\"20\" style=\"fill:white;stroke:black\" /><rect x=\"240\" y=\"120\" width=\"20\" height=\"20\" style=\"fill:white;stroke:black\" /><rect x=\"260\" y=\"0\" width=\"20\" height=\"20\" style=\"fill:grey;stroke:black\" /><rect x=\"260\" y=\"20\" width=\"20\" height=\"20\" style=\"fill:white;stroke:black\" /><rect x=\"260\" y=\"40\" width=\"20\" height=\"20\" style=\"fill:white;stroke:black\" /><rect x=\"260\" y=\"60\" width=\"20\" height=\"20\" style=\"fill:white;stroke:black\" /><rect x=\"260\" y=\"80\" width=\"20\" height=\"20\" style=\"fill:white;stroke:black\" /><rect x=\"260\" y=\"100\" width=\"20\" height=\"20\" style=\"fill:white;stroke:black\" /><rect x=\"260\" y=\"120\" width=\"20\" height=\"20\" style=\"fill:grey;stroke:black\" /><rect x=\"280\" y=\"0\" width=\"20\" height=\"20\" style=\"fill:grey;stroke:black\" /><rect x=\"280\" y=\"20\" width=\"20\" height=\"20\" style=\"fill:grey;stroke:black\" /><rect x=\"280\" y=\"40\" width=\"20\" height=\"20\" style=\"fill:grey;stroke:black\" /><rect x=\"280\" y=\"60\" width=\"20\" height=\"20\" style=\"fill:grey;stroke:black\" /><rect x=\"280\" y=\"80\" width=\"20\" height=\"20\" style=\"fill:grey;stroke:black\" /><rect x=\"280\" y=\"100\" width=\"20\" height=\"20\" style=\"fill:grey;stroke:black\" /><rect x=\"280\" y=\"120\" width=\"20\" height=\"20\" style=\"fill:grey;stroke:black\" /><rect x=\"102\" y=\"22\" width=\"16\" height=\"16\" style=\"fill:green;stroke:green\" /><rect x=\"62\" y=\"22\" width=\"16\" height=\"16\" style=\"fill:green;stroke:green\" /><rect x=\"182\" y=\"22\" width=\"16\" height=\"16\" style=\"fill:green;stroke:green\" /><rect x=\"222\" y=\"22\" width=\"16\" height=\"16\" style=\"fill:green;stroke:green\" /><circle cx=\"70\" cy=\"30\" r=\"8\" fill=\"red\" /><text x=\"65\" y=\"35\" font-family=\"Arial\" font-size=\"15\">A</text><circle cx=\"110\" cy=\"30\" r=\"8\" fill=\"red\" /><text x=\"105\" y=\"35\" font-family=\"Arial\" font-size=\"15\">B</text><circle cx=\"230\" cy=\"30\" r=\"8\" fill=\"red\" /><text x=\"225\" y=\"35\" font-family=\"Arial\" font-size=\"15\">C</text></svg>"
      ],
      "text/plain": [
       "<IPython.core.display.HTML object>"
      ]
     },
     "metadata": {},
     "output_type": "display_data"
    }
   ],
   "source": [
    "mymodel = model.MODEL(7,15)\n",
    "mymodel.verbose = False\n",
    "mymodel.walls[(1,4)] = 1\n",
    "mymodel.walls[(1,10)] = 1\n",
    "mymodel.agents = [model.AGENT((6,3),mymodel,\"A\"),model.AGENT((6,2),mymodel,\"B\"),model.AGENT((6,11),mymodel,\"C\")]\n",
    "mymodel.restCells = [model.RESTCELL((1,5),4),model.RESTCELL((1,3),4),model.RESTCELL((1,9),4),model.RESTCELL((1,11),4)]\n",
    "mymodel.play_model(8)"
   ]
  },
  {
   "cell_type": "code",
   "execution_count": 67,
   "metadata": {},
   "outputs": [
    {
     "data": {
      "text/html": [
       "<svg width=\"300\" height=\"140\"><rect x=\"0\" y=\"0\" width=\"20\" height=\"20\" style=\"fill:grey;stroke:black\" /><rect x=\"0\" y=\"20\" width=\"20\" height=\"20\" style=\"fill:grey;stroke:black\" /><rect x=\"0\" y=\"40\" width=\"20\" height=\"20\" style=\"fill:grey;stroke:black\" /><rect x=\"0\" y=\"60\" width=\"20\" height=\"20\" style=\"fill:grey;stroke:black\" /><rect x=\"0\" y=\"80\" width=\"20\" height=\"20\" style=\"fill:grey;stroke:black\" /><rect x=\"0\" y=\"100\" width=\"20\" height=\"20\" style=\"fill:grey;stroke:black\" /><rect x=\"0\" y=\"120\" width=\"20\" height=\"20\" style=\"fill:grey;stroke:black\" /><rect x=\"20\" y=\"0\" width=\"20\" height=\"20\" style=\"fill:grey;stroke:black\" /><rect x=\"20\" y=\"20\" width=\"20\" height=\"20\" style=\"fill:white;stroke:black\" /><rect x=\"20\" y=\"40\" width=\"20\" height=\"20\" style=\"fill:white;stroke:black\" /><rect x=\"20\" y=\"60\" width=\"20\" height=\"20\" style=\"fill:white;stroke:black\" /><rect x=\"20\" y=\"80\" width=\"20\" height=\"20\" style=\"fill:white;stroke:black\" /><rect x=\"20\" y=\"100\" width=\"20\" height=\"20\" style=\"fill:white;stroke:black\" /><rect x=\"20\" y=\"120\" width=\"20\" height=\"20\" style=\"fill:grey;stroke:black\" /><rect x=\"40\" y=\"0\" width=\"20\" height=\"20\" style=\"fill:grey;stroke:black\" /><rect x=\"40\" y=\"20\" width=\"20\" height=\"20\" style=\"fill:white;stroke:black\" /><rect x=\"40\" y=\"40\" width=\"20\" height=\"20\" style=\"fill:white;stroke:black\" /><rect x=\"40\" y=\"60\" width=\"20\" height=\"20\" style=\"fill:white;stroke:black\" /><rect x=\"40\" y=\"80\" width=\"20\" height=\"20\" style=\"fill:white;stroke:black\" /><rect x=\"40\" y=\"100\" width=\"20\" height=\"20\" style=\"fill:white;stroke:black\" /><rect x=\"40\" y=\"120\" width=\"20\" height=\"20\" style=\"fill:white;stroke:black\" /><rect x=\"60\" y=\"0\" width=\"20\" height=\"20\" style=\"fill:grey;stroke:black\" /><rect x=\"60\" y=\"20\" width=\"20\" height=\"20\" style=\"fill:white;stroke:black\" /><rect x=\"60\" y=\"40\" width=\"20\" height=\"20\" style=\"fill:white;stroke:black\" /><rect x=\"60\" y=\"60\" width=\"20\" height=\"20\" style=\"fill:white;stroke:black\" /><rect x=\"60\" y=\"80\" width=\"20\" height=\"20\" style=\"fill:white;stroke:black\" /><rect x=\"60\" y=\"100\" width=\"20\" height=\"20\" style=\"fill:white;stroke:black\" /><rect x=\"60\" y=\"120\" width=\"20\" height=\"20\" style=\"fill:white;stroke:black\" /><rect x=\"80\" y=\"0\" width=\"20\" height=\"20\" style=\"fill:grey;stroke:black\" /><rect x=\"80\" y=\"20\" width=\"20\" height=\"20\" style=\"fill:grey;stroke:black\" /><rect x=\"80\" y=\"40\" width=\"20\" height=\"20\" style=\"fill:white;stroke:black\" /><rect x=\"80\" y=\"60\" width=\"20\" height=\"20\" style=\"fill:white;stroke:black\" /><rect x=\"80\" y=\"80\" width=\"20\" height=\"20\" style=\"fill:white;stroke:black\" /><rect x=\"80\" y=\"100\" width=\"20\" height=\"20\" style=\"fill:white;stroke:black\" /><rect x=\"80\" y=\"120\" width=\"20\" height=\"20\" style=\"fill:grey;stroke:black\" /><rect x=\"100\" y=\"0\" width=\"20\" height=\"20\" style=\"fill:grey;stroke:black\" /><rect x=\"100\" y=\"20\" width=\"20\" height=\"20\" style=\"fill:white;stroke:black\" /><rect x=\"100\" y=\"40\" width=\"20\" height=\"20\" style=\"fill:white;stroke:black\" /><rect x=\"100\" y=\"60\" width=\"20\" height=\"20\" style=\"fill:white;stroke:black\" /><rect x=\"100\" y=\"80\" width=\"20\" height=\"20\" style=\"fill:white;stroke:black\" /><rect x=\"100\" y=\"100\" width=\"20\" height=\"20\" style=\"fill:white;stroke:black\" /><rect x=\"100\" y=\"120\" width=\"20\" height=\"20\" style=\"fill:grey;stroke:black\" /><rect x=\"120\" y=\"0\" width=\"20\" height=\"20\" style=\"fill:grey;stroke:black\" /><rect x=\"120\" y=\"20\" width=\"20\" height=\"20\" style=\"fill:white;stroke:black\" /><rect x=\"120\" y=\"40\" width=\"20\" height=\"20\" style=\"fill:white;stroke:black\" /><rect x=\"120\" y=\"60\" width=\"20\" height=\"20\" style=\"fill:white;stroke:black\" /><rect x=\"120\" y=\"80\" width=\"20\" height=\"20\" style=\"fill:white;stroke:black\" /><rect x=\"120\" y=\"100\" width=\"20\" height=\"20\" style=\"fill:white;stroke:black\" /><rect x=\"120\" y=\"120\" width=\"20\" height=\"20\" style=\"fill:grey;stroke:black\" /><rect x=\"140\" y=\"0\" width=\"20\" height=\"20\" style=\"fill:grey;stroke:black\" /><rect x=\"140\" y=\"20\" width=\"20\" height=\"20\" style=\"fill:white;stroke:black\" /><rect x=\"140\" y=\"40\" width=\"20\" height=\"20\" style=\"fill:white;stroke:black\" /><rect x=\"140\" y=\"60\" width=\"20\" height=\"20\" style=\"fill:white;stroke:black\" /><rect x=\"140\" y=\"80\" width=\"20\" height=\"20\" style=\"fill:white;stroke:black\" /><rect x=\"140\" y=\"100\" width=\"20\" height=\"20\" style=\"fill:white;stroke:black\" /><rect x=\"140\" y=\"120\" width=\"20\" height=\"20\" style=\"fill:grey;stroke:black\" /><rect x=\"160\" y=\"0\" width=\"20\" height=\"20\" style=\"fill:grey;stroke:black\" /><rect x=\"160\" y=\"20\" width=\"20\" height=\"20\" style=\"fill:white;stroke:black\" /><rect x=\"160\" y=\"40\" width=\"20\" height=\"20\" style=\"fill:white;stroke:black\" /><rect x=\"160\" y=\"60\" width=\"20\" height=\"20\" style=\"fill:white;stroke:black\" /><rect x=\"160\" y=\"80\" width=\"20\" height=\"20\" style=\"fill:white;stroke:black\" /><rect x=\"160\" y=\"100\" width=\"20\" height=\"20\" style=\"fill:white;stroke:black\" /><rect x=\"160\" y=\"120\" width=\"20\" height=\"20\" style=\"fill:grey;stroke:black\" /><rect x=\"180\" y=\"0\" width=\"20\" height=\"20\" style=\"fill:grey;stroke:black\" /><rect x=\"180\" y=\"20\" width=\"20\" height=\"20\" style=\"fill:white;stroke:black\" /><rect x=\"180\" y=\"40\" width=\"20\" height=\"20\" style=\"fill:white;stroke:black\" /><rect x=\"180\" y=\"60\" width=\"20\" height=\"20\" style=\"fill:white;stroke:black\" /><rect x=\"180\" y=\"80\" width=\"20\" height=\"20\" style=\"fill:white;stroke:black\" /><rect x=\"180\" y=\"100\" width=\"20\" height=\"20\" style=\"fill:white;stroke:black\" /><rect x=\"180\" y=\"120\" width=\"20\" height=\"20\" style=\"fill:grey;stroke:black\" /><rect x=\"200\" y=\"0\" width=\"20\" height=\"20\" style=\"fill:grey;stroke:black\" /><rect x=\"200\" y=\"20\" width=\"20\" height=\"20\" style=\"fill:grey;stroke:black\" /><rect x=\"200\" y=\"40\" width=\"20\" height=\"20\" style=\"fill:white;stroke:black\" /><rect x=\"200\" y=\"60\" width=\"20\" height=\"20\" style=\"fill:white;stroke:black\" /><rect x=\"200\" y=\"80\" width=\"20\" height=\"20\" style=\"fill:white;stroke:black\" /><rect x=\"200\" y=\"100\" width=\"20\" height=\"20\" style=\"fill:white;stroke:black\" /><rect x=\"200\" y=\"120\" width=\"20\" height=\"20\" style=\"fill:grey;stroke:black\" /><rect x=\"220\" y=\"0\" width=\"20\" height=\"20\" style=\"fill:grey;stroke:black\" /><rect x=\"220\" y=\"20\" width=\"20\" height=\"20\" style=\"fill:white;stroke:black\" /><rect x=\"220\" y=\"40\" width=\"20\" height=\"20\" style=\"fill:white;stroke:black\" /><rect x=\"220\" y=\"60\" width=\"20\" height=\"20\" style=\"fill:white;stroke:black\" /><rect x=\"220\" y=\"80\" width=\"20\" height=\"20\" style=\"fill:white;stroke:black\" /><rect x=\"220\" y=\"100\" width=\"20\" height=\"20\" style=\"fill:white;stroke:black\" /><rect x=\"220\" y=\"120\" width=\"20\" height=\"20\" style=\"fill:white;stroke:black\" /><rect x=\"240\" y=\"0\" width=\"20\" height=\"20\" style=\"fill:grey;stroke:black\" /><rect x=\"240\" y=\"20\" width=\"20\" height=\"20\" style=\"fill:white;stroke:black\" /><rect x=\"240\" y=\"40\" width=\"20\" height=\"20\" style=\"fill:white;stroke:black\" /><rect x=\"240\" y=\"60\" width=\"20\" height=\"20\" style=\"fill:white;stroke:black\" /><rect x=\"240\" y=\"80\" width=\"20\" height=\"20\" style=\"fill:white;stroke:black\" /><rect x=\"240\" y=\"100\" width=\"20\" height=\"20\" style=\"fill:white;stroke:black\" /><rect x=\"240\" y=\"120\" width=\"20\" height=\"20\" style=\"fill:white;stroke:black\" /><rect x=\"260\" y=\"0\" width=\"20\" height=\"20\" style=\"fill:grey;stroke:black\" /><rect x=\"260\" y=\"20\" width=\"20\" height=\"20\" style=\"fill:white;stroke:black\" /><rect x=\"260\" y=\"40\" width=\"20\" height=\"20\" style=\"fill:white;stroke:black\" /><rect x=\"260\" y=\"60\" width=\"20\" height=\"20\" style=\"fill:white;stroke:black\" /><rect x=\"260\" y=\"80\" width=\"20\" height=\"20\" style=\"fill:white;stroke:black\" /><rect x=\"260\" y=\"100\" width=\"20\" height=\"20\" style=\"fill:white;stroke:black\" /><rect x=\"260\" y=\"120\" width=\"20\" height=\"20\" style=\"fill:grey;stroke:black\" /><rect x=\"280\" y=\"0\" width=\"20\" height=\"20\" style=\"fill:grey;stroke:black\" /><rect x=\"280\" y=\"20\" width=\"20\" height=\"20\" style=\"fill:grey;stroke:black\" /><rect x=\"280\" y=\"40\" width=\"20\" height=\"20\" style=\"fill:grey;stroke:black\" /><rect x=\"280\" y=\"60\" width=\"20\" height=\"20\" style=\"fill:grey;stroke:black\" /><rect x=\"280\" y=\"80\" width=\"20\" height=\"20\" style=\"fill:grey;stroke:black\" /><rect x=\"280\" y=\"100\" width=\"20\" height=\"20\" style=\"fill:grey;stroke:black\" /><rect x=\"280\" y=\"120\" width=\"20\" height=\"20\" style=\"fill:grey;stroke:black\" /><rect x=\"102\" y=\"22\" width=\"16\" height=\"16\" style=\"fill:green;stroke:green\" /><rect x=\"62\" y=\"22\" width=\"16\" height=\"16\" style=\"fill:green;stroke:green\" /><rect x=\"182\" y=\"22\" width=\"16\" height=\"16\" style=\"fill:green;stroke:green\" /><rect x=\"222\" y=\"22\" width=\"16\" height=\"16\" style=\"fill:green;stroke:green\" /><circle cx=\"70\" cy=\"30\" r=\"8\" fill=\"red\" /><text x=\"65\" y=\"35\" font-family=\"Arial\" font-size=\"15\">A</text><circle cx=\"30\" cy=\"50\" r=\"8\" fill=\"red\" /><text x=\"25\" y=\"55\" font-family=\"Arial\" font-size=\"15\">B</text><circle cx=\"230\" cy=\"30\" r=\"8\" fill=\"red\" /><text x=\"225\" y=\"35\" font-family=\"Arial\" font-size=\"15\">C</text><circle cx=\"170\" cy=\"90\" r=\"8\" fill=\"red\" /><text x=\"165\" y=\"95\" font-family=\"Arial\" font-size=\"15\">0</text><circle cx=\"110\" cy=\"90\" r=\"8\" fill=\"red\" /><text x=\"105\" y=\"95\" font-family=\"Arial\" font-size=\"15\">1</text><circle cx=\"150\" cy=\"30\" r=\"8\" fill=\"red\" /><text x=\"145\" y=\"35\" font-family=\"Arial\" font-size=\"15\">2</text><circle cx=\"190\" cy=\"30\" r=\"8\" fill=\"red\" /><text x=\"185\" y=\"35\" font-family=\"Arial\" font-size=\"15\">3</text><circle cx=\"110\" cy=\"30\" r=\"8\" fill=\"red\" /><text x=\"105\" y=\"35\" font-family=\"Arial\" font-size=\"15\">4</text><circle cx=\"70\" cy=\"90\" r=\"8\" fill=\"red\" /><text x=\"65\" y=\"95\" font-family=\"Arial\" font-size=\"15\">5</text></svg>"
      ],
      "text/plain": [
       "<IPython.core.display.HTML object>"
      ]
     },
     "metadata": {},
     "output_type": "display_data"
    }
   ],
   "source": [
    "t= 20\n",
    "spawn_coord = (6,3)\n",
    "\n",
    "mymodel = model.MODEL(7,15)\n",
    "mymodel.verbose = False\n",
    "mymodel.walls[(1,4)] = 1\n",
    "mymodel.walls[(1,10)] = 1\n",
    "mymodel.agents = [model.AGENT((6,3),mymodel,\"A\"),model.AGENT((6,2),mymodel,\"B\"),model.AGENT((6,11),mymodel,\"C\")]\n",
    "mymodel.restCells = [model.RESTCELL((1,5),4),model.RESTCELL((1,3),4),model.RESTCELL((1,9),4),model.RESTCELL((1,11),4)]\n",
    "\n",
    "mymodel.plot_Nb()\n",
    "for i in range (0,t):\n",
    "    mymodel.newStep()\n",
    "    if i<6:\n",
    "        mymodel.agents.append(agents.AGENT(spawn_coord,mymodel,str(i)))\n",
    "    mymodel.clear() \n",
    "    mymodel.plot_Nb()\n",
    "    mymodel.plotManager.saveImage(mymodel,str(i))\n",
    "    sleep(1)"
   ]
  },
  {
   "cell_type": "code",
   "execution_count": 126,
   "metadata": {},
   "outputs": [
    {
     "data": {
      "text/html": [
       "<svg width=\"240\" height=\"120\"><rect x=\"0\" y=\"0\" width=\"20\" height=\"20\" style=\"fill:grey;stroke:black\" /><rect x=\"0\" y=\"20\" width=\"20\" height=\"20\" style=\"fill:grey;stroke:black\" /><rect x=\"0\" y=\"40\" width=\"20\" height=\"20\" style=\"fill:grey;stroke:black\" /><rect x=\"0\" y=\"60\" width=\"20\" height=\"20\" style=\"fill:grey;stroke:black\" /><rect x=\"0\" y=\"80\" width=\"20\" height=\"20\" style=\"fill:grey;stroke:black\" /><rect x=\"0\" y=\"100\" width=\"20\" height=\"20\" style=\"fill:grey;stroke:black\" /><rect x=\"20\" y=\"0\" width=\"20\" height=\"20\" style=\"fill:grey;stroke:black\" /><rect x=\"20\" y=\"20\" width=\"20\" height=\"20\" style=\"fill:white;stroke:black\" /><rect x=\"20\" y=\"40\" width=\"20\" height=\"20\" style=\"fill:white;stroke:black\" /><rect x=\"20\" y=\"60\" width=\"20\" height=\"20\" style=\"fill:white;stroke:black\" /><rect x=\"20\" y=\"80\" width=\"20\" height=\"20\" style=\"fill:white;stroke:black\" /><rect x=\"20\" y=\"100\" width=\"20\" height=\"20\" style=\"fill:grey;stroke:black\" /><rect x=\"40\" y=\"0\" width=\"20\" height=\"20\" style=\"fill:grey;stroke:black\" /><rect x=\"40\" y=\"20\" width=\"20\" height=\"20\" style=\"fill:white;stroke:black\" /><rect x=\"40\" y=\"40\" width=\"20\" height=\"20\" style=\"fill:white;stroke:black\" /><rect x=\"40\" y=\"60\" width=\"20\" height=\"20\" style=\"fill:white;stroke:black\" /><rect x=\"40\" y=\"80\" width=\"20\" height=\"20\" style=\"fill:white;stroke:black\" /><rect x=\"40\" y=\"100\" width=\"20\" height=\"20\" style=\"fill:white;stroke:black\" /><rect x=\"60\" y=\"0\" width=\"20\" height=\"20\" style=\"fill:grey;stroke:black\" /><rect x=\"60\" y=\"20\" width=\"20\" height=\"20\" style=\"fill:white;stroke:black\" /><rect x=\"60\" y=\"40\" width=\"20\" height=\"20\" style=\"fill:white;stroke:black\" /><rect x=\"60\" y=\"60\" width=\"20\" height=\"20\" style=\"fill:white;stroke:black\" /><rect x=\"60\" y=\"80\" width=\"20\" height=\"20\" style=\"fill:white;stroke:black\" /><rect x=\"60\" y=\"100\" width=\"20\" height=\"20\" style=\"fill:white;stroke:black\" /><rect x=\"80\" y=\"0\" width=\"20\" height=\"20\" style=\"fill:grey;stroke:black\" /><rect x=\"80\" y=\"20\" width=\"20\" height=\"20\" style=\"fill:white;stroke:black\" /><rect x=\"80\" y=\"40\" width=\"20\" height=\"20\" style=\"fill:white;stroke:black\" /><rect x=\"80\" y=\"60\" width=\"20\" height=\"20\" style=\"fill:white;stroke:black\" /><rect x=\"80\" y=\"80\" width=\"20\" height=\"20\" style=\"fill:white;stroke:black\" /><rect x=\"80\" y=\"100\" width=\"20\" height=\"20\" style=\"fill:grey;stroke:black\" /><rect x=\"100\" y=\"0\" width=\"20\" height=\"20\" style=\"fill:grey;stroke:black\" /><rect x=\"100\" y=\"20\" width=\"20\" height=\"20\" style=\"fill:grey;stroke:black\" /><rect x=\"100\" y=\"40\" width=\"20\" height=\"20\" style=\"fill:grey;stroke:black\" /><rect x=\"100\" y=\"60\" width=\"20\" height=\"20\" style=\"fill:white;stroke:black\" /><rect x=\"100\" y=\"80\" width=\"20\" height=\"20\" style=\"fill:grey;stroke:black\" /><rect x=\"100\" y=\"100\" width=\"20\" height=\"20\" style=\"fill:grey;stroke:black\" /><rect x=\"120\" y=\"0\" width=\"20\" height=\"20\" style=\"fill:grey;stroke:black\" /><rect x=\"120\" y=\"20\" width=\"20\" height=\"20\" style=\"fill:white;stroke:black\" /><rect x=\"120\" y=\"40\" width=\"20\" height=\"20\" style=\"fill:white;stroke:black\" /><rect x=\"120\" y=\"60\" width=\"20\" height=\"20\" style=\"fill:white;stroke:black\" /><rect x=\"120\" y=\"80\" width=\"20\" height=\"20\" style=\"fill:white;stroke:black\" /><rect x=\"120\" y=\"100\" width=\"20\" height=\"20\" style=\"fill:grey;stroke:black\" /><rect x=\"140\" y=\"0\" width=\"20\" height=\"20\" style=\"fill:grey;stroke:black\" /><rect x=\"140\" y=\"20\" width=\"20\" height=\"20\" style=\"fill:white;stroke:black\" /><rect x=\"140\" y=\"40\" width=\"20\" height=\"20\" style=\"fill:white;stroke:black\" /><rect x=\"140\" y=\"60\" width=\"20\" height=\"20\" style=\"fill:white;stroke:black\" /><rect x=\"140\" y=\"80\" width=\"20\" height=\"20\" style=\"fill:white;stroke:black\" /><rect x=\"140\" y=\"100\" width=\"20\" height=\"20\" style=\"fill:grey;stroke:black\" /><rect x=\"160\" y=\"0\" width=\"20\" height=\"20\" style=\"fill:grey;stroke:black\" /><rect x=\"160\" y=\"20\" width=\"20\" height=\"20\" style=\"fill:white;stroke:black\" /><rect x=\"160\" y=\"40\" width=\"20\" height=\"20\" style=\"fill:white;stroke:black\" /><rect x=\"160\" y=\"60\" width=\"20\" height=\"20\" style=\"fill:white;stroke:black\" /><rect x=\"160\" y=\"80\" width=\"20\" height=\"20\" style=\"fill:white;stroke:black\" /><rect x=\"160\" y=\"100\" width=\"20\" height=\"20\" style=\"fill:white;stroke:black\" /><rect x=\"180\" y=\"0\" width=\"20\" height=\"20\" style=\"fill:grey;stroke:black\" /><rect x=\"180\" y=\"20\" width=\"20\" height=\"20\" style=\"fill:white;stroke:black\" /><rect x=\"180\" y=\"40\" width=\"20\" height=\"20\" style=\"fill:white;stroke:black\" /><rect x=\"180\" y=\"60\" width=\"20\" height=\"20\" style=\"fill:white;stroke:black\" /><rect x=\"180\" y=\"80\" width=\"20\" height=\"20\" style=\"fill:white;stroke:black\" /><rect x=\"180\" y=\"100\" width=\"20\" height=\"20\" style=\"fill:white;stroke:black\" /><rect x=\"200\" y=\"0\" width=\"20\" height=\"20\" style=\"fill:grey;stroke:black\" /><rect x=\"200\" y=\"20\" width=\"20\" height=\"20\" style=\"fill:white;stroke:black\" /><rect x=\"200\" y=\"40\" width=\"20\" height=\"20\" style=\"fill:white;stroke:black\" /><rect x=\"200\" y=\"60\" width=\"20\" height=\"20\" style=\"fill:white;stroke:black\" /><rect x=\"200\" y=\"80\" width=\"20\" height=\"20\" style=\"fill:white;stroke:black\" /><rect x=\"200\" y=\"100\" width=\"20\" height=\"20\" style=\"fill:grey;stroke:black\" /><rect x=\"220\" y=\"0\" width=\"20\" height=\"20\" style=\"fill:grey;stroke:black\" /><rect x=\"220\" y=\"20\" width=\"20\" height=\"20\" style=\"fill:grey;stroke:black\" /><rect x=\"220\" y=\"40\" width=\"20\" height=\"20\" style=\"fill:grey;stroke:black\" /><rect x=\"220\" y=\"60\" width=\"20\" height=\"20\" style=\"fill:grey;stroke:black\" /><rect x=\"220\" y=\"80\" width=\"20\" height=\"20\" style=\"fill:grey;stroke:black\" /><rect x=\"220\" y=\"100\" width=\"20\" height=\"20\" style=\"fill:grey;stroke:black\" /><rect x=\"22\" y=\"22\" width=\"16\" height=\"16\" style=\"fill:green;stroke:green\" /><rect x=\"82\" y=\"22\" width=\"16\" height=\"16\" style=\"fill:green;stroke:green\" /><rect x=\"202\" y=\"22\" width=\"16\" height=\"16\" style=\"fill:green;stroke:green\" /><rect x=\"122\" y=\"22\" width=\"16\" height=\"16\" style=\"fill:green;stroke:green\" /></svg>"
      ],
      "text/plain": [
       "<IPython.core.display.HTML object>"
      ]
     },
     "metadata": {},
     "output_type": "display_data"
    }
   ],
   "source": [
    "agent_allowed_to_stand_up = \"yes\"\n",
    "spawn_coord=(5,2)\n",
    "spawn_coord2=(5,8)\n",
    "mymodel = model.MODEL(6,12)\n",
    "mymodel.verbose = False\n",
    "mymodel.walls[(1,5)] = 1\n",
    "mymodel.walls[(2,5)] = 1\n",
    "mymodel.walls[(4,5)] = 1\n",
    "#mymodel.agents = [model.AGENT((5,2),mymodel,\"1\"),model.AGENT((5,8),mymodel,\"2\")]\n",
    "mymodel.restCells = [model.RESTCELL((1,1),5),model.RESTCELL((1,4),5),model.RESTCELL((1,10),5),model.RESTCELL((1,6),5)]\n",
    "mymodel.plot_Nb()\n",
    "mymodel.plotManager.saveImage(mymodel,\"wagon_4_seats_1\")"
   ]
  },
  {
   "cell_type": "code",
   "execution_count": 141,
   "metadata": {},
   "outputs": [
    {
     "data": {
      "text/html": [
       "<svg width=\"240\" height=\"120\"><rect x=\"0\" y=\"0\" width=\"20\" height=\"20\" style=\"fill:grey;stroke:black\" /><rect x=\"0\" y=\"20\" width=\"20\" height=\"20\" style=\"fill:grey;stroke:black\" /><rect x=\"0\" y=\"40\" width=\"20\" height=\"20\" style=\"fill:grey;stroke:black\" /><rect x=\"0\" y=\"60\" width=\"20\" height=\"20\" style=\"fill:grey;stroke:black\" /><rect x=\"0\" y=\"80\" width=\"20\" height=\"20\" style=\"fill:grey;stroke:black\" /><rect x=\"0\" y=\"100\" width=\"20\" height=\"20\" style=\"fill:grey;stroke:black\" /><rect x=\"20\" y=\"0\" width=\"20\" height=\"20\" style=\"fill:grey;stroke:black\" /><rect x=\"20\" y=\"20\" width=\"20\" height=\"20\" style=\"fill:white;stroke:black\" /><rect x=\"20\" y=\"40\" width=\"20\" height=\"20\" style=\"fill:white;stroke:black\" /><rect x=\"20\" y=\"60\" width=\"20\" height=\"20\" style=\"fill:white;stroke:black\" /><rect x=\"20\" y=\"80\" width=\"20\" height=\"20\" style=\"fill:white;stroke:black\" /><rect x=\"20\" y=\"100\" width=\"20\" height=\"20\" style=\"fill:grey;stroke:black\" /><rect x=\"40\" y=\"0\" width=\"20\" height=\"20\" style=\"fill:grey;stroke:black\" /><rect x=\"40\" y=\"20\" width=\"20\" height=\"20\" style=\"fill:white;stroke:black\" /><rect x=\"40\" y=\"40\" width=\"20\" height=\"20\" style=\"fill:white;stroke:black\" /><rect x=\"40\" y=\"60\" width=\"20\" height=\"20\" style=\"fill:white;stroke:black\" /><rect x=\"40\" y=\"80\" width=\"20\" height=\"20\" style=\"fill:white;stroke:black\" /><rect x=\"40\" y=\"100\" width=\"20\" height=\"20\" style=\"fill:white;stroke:black\" /><rect x=\"60\" y=\"0\" width=\"20\" height=\"20\" style=\"fill:grey;stroke:black\" /><rect x=\"60\" y=\"20\" width=\"20\" height=\"20\" style=\"fill:white;stroke:black\" /><rect x=\"60\" y=\"40\" width=\"20\" height=\"20\" style=\"fill:white;stroke:black\" /><rect x=\"60\" y=\"60\" width=\"20\" height=\"20\" style=\"fill:white;stroke:black\" /><rect x=\"60\" y=\"80\" width=\"20\" height=\"20\" style=\"fill:white;stroke:black\" /><rect x=\"60\" y=\"100\" width=\"20\" height=\"20\" style=\"fill:white;stroke:black\" /><rect x=\"80\" y=\"0\" width=\"20\" height=\"20\" style=\"fill:grey;stroke:black\" /><rect x=\"80\" y=\"20\" width=\"20\" height=\"20\" style=\"fill:white;stroke:black\" /><rect x=\"80\" y=\"40\" width=\"20\" height=\"20\" style=\"fill:white;stroke:black\" /><rect x=\"80\" y=\"60\" width=\"20\" height=\"20\" style=\"fill:white;stroke:black\" /><rect x=\"80\" y=\"80\" width=\"20\" height=\"20\" style=\"fill:white;stroke:black\" /><rect x=\"80\" y=\"100\" width=\"20\" height=\"20\" style=\"fill:grey;stroke:black\" /><rect x=\"100\" y=\"0\" width=\"20\" height=\"20\" style=\"fill:grey;stroke:black\" /><rect x=\"100\" y=\"20\" width=\"20\" height=\"20\" style=\"fill:grey;stroke:black\" /><rect x=\"100\" y=\"40\" width=\"20\" height=\"20\" style=\"fill:white;stroke:black\" /><rect x=\"100\" y=\"60\" width=\"20\" height=\"20\" style=\"fill:white;stroke:black\" /><rect x=\"100\" y=\"80\" width=\"20\" height=\"20\" style=\"fill:grey;stroke:black\" /><rect x=\"100\" y=\"100\" width=\"20\" height=\"20\" style=\"fill:grey;stroke:black\" /><rect x=\"120\" y=\"0\" width=\"20\" height=\"20\" style=\"fill:grey;stroke:black\" /><rect x=\"120\" y=\"20\" width=\"20\" height=\"20\" style=\"fill:white;stroke:black\" /><rect x=\"120\" y=\"40\" width=\"20\" height=\"20\" style=\"fill:white;stroke:black\" /><rect x=\"120\" y=\"60\" width=\"20\" height=\"20\" style=\"fill:white;stroke:black\" /><rect x=\"120\" y=\"80\" width=\"20\" height=\"20\" style=\"fill:white;stroke:black\" /><rect x=\"120\" y=\"100\" width=\"20\" height=\"20\" style=\"fill:grey;stroke:black\" /><rect x=\"140\" y=\"0\" width=\"20\" height=\"20\" style=\"fill:grey;stroke:black\" /><rect x=\"140\" y=\"20\" width=\"20\" height=\"20\" style=\"fill:white;stroke:black\" /><rect x=\"140\" y=\"40\" width=\"20\" height=\"20\" style=\"fill:white;stroke:black\" /><rect x=\"140\" y=\"60\" width=\"20\" height=\"20\" style=\"fill:white;stroke:black\" /><rect x=\"140\" y=\"80\" width=\"20\" height=\"20\" style=\"fill:white;stroke:black\" /><rect x=\"140\" y=\"100\" width=\"20\" height=\"20\" style=\"fill:grey;stroke:black\" /><rect x=\"160\" y=\"0\" width=\"20\" height=\"20\" style=\"fill:grey;stroke:black\" /><rect x=\"160\" y=\"20\" width=\"20\" height=\"20\" style=\"fill:white;stroke:black\" /><rect x=\"160\" y=\"40\" width=\"20\" height=\"20\" style=\"fill:white;stroke:black\" /><rect x=\"160\" y=\"60\" width=\"20\" height=\"20\" style=\"fill:white;stroke:black\" /><rect x=\"160\" y=\"80\" width=\"20\" height=\"20\" style=\"fill:white;stroke:black\" /><rect x=\"160\" y=\"100\" width=\"20\" height=\"20\" style=\"fill:white;stroke:black\" /><rect x=\"180\" y=\"0\" width=\"20\" height=\"20\" style=\"fill:grey;stroke:black\" /><rect x=\"180\" y=\"20\" width=\"20\" height=\"20\" style=\"fill:white;stroke:black\" /><rect x=\"180\" y=\"40\" width=\"20\" height=\"20\" style=\"fill:white;stroke:black\" /><rect x=\"180\" y=\"60\" width=\"20\" height=\"20\" style=\"fill:white;stroke:black\" /><rect x=\"180\" y=\"80\" width=\"20\" height=\"20\" style=\"fill:white;stroke:black\" /><rect x=\"180\" y=\"100\" width=\"20\" height=\"20\" style=\"fill:white;stroke:black\" /><rect x=\"200\" y=\"0\" width=\"20\" height=\"20\" style=\"fill:grey;stroke:black\" /><rect x=\"200\" y=\"20\" width=\"20\" height=\"20\" style=\"fill:white;stroke:black\" /><rect x=\"200\" y=\"40\" width=\"20\" height=\"20\" style=\"fill:white;stroke:black\" /><rect x=\"200\" y=\"60\" width=\"20\" height=\"20\" style=\"fill:white;stroke:black\" /><rect x=\"200\" y=\"80\" width=\"20\" height=\"20\" style=\"fill:white;stroke:black\" /><rect x=\"200\" y=\"100\" width=\"20\" height=\"20\" style=\"fill:grey;stroke:black\" /><rect x=\"220\" y=\"0\" width=\"20\" height=\"20\" style=\"fill:grey;stroke:black\" /><rect x=\"220\" y=\"20\" width=\"20\" height=\"20\" style=\"fill:grey;stroke:black\" /><rect x=\"220\" y=\"40\" width=\"20\" height=\"20\" style=\"fill:grey;stroke:black\" /><rect x=\"220\" y=\"60\" width=\"20\" height=\"20\" style=\"fill:grey;stroke:black\" /><rect x=\"220\" y=\"80\" width=\"20\" height=\"20\" style=\"fill:grey;stroke:black\" /><rect x=\"220\" y=\"100\" width=\"20\" height=\"20\" style=\"fill:grey;stroke:black\" /><rect x=\"22\" y=\"22\" width=\"16\" height=\"16\" style=\"fill:green;stroke:green\" /><rect x=\"202\" y=\"22\" width=\"16\" height=\"16\" style=\"fill:green;stroke:green\" /><rect x=\"122\" y=\"22\" width=\"16\" height=\"16\" style=\"fill:green;stroke:green\" /><circle cx=\"130\" cy=\"30\" r=\"8\" fill=\"red\" /><text x=\"125\" y=\"35\" font-family=\"Arial\" font-size=\"15\">1</text><circle cx=\"30\" cy=\"30\" r=\"8\" fill=\"red\" /><text x=\"25\" y=\"35\" font-family=\"Arial\" font-size=\"15\">2</text></svg>"
      ],
      "text/plain": [
       "<IPython.core.display.HTML object>"
      ]
     },
     "metadata": {},
     "output_type": "display_data"
    }
   ],
   "source": [
    "#second wagon wagon :)\n",
    "t = 12\n",
    "agent_allowed_to_stand_up = \"yes\"\n",
    "spawn_coord=(5,2)\n",
    "spawn_coord2=(5,8)\n",
    "mymodel = model.MODEL(6,12)\n",
    "mymodel.verbose = False\n",
    "mymodel.walls[(1,5)] = 1\n",
    "mymodel.walls[(4,5)] = 1\n",
    "mymodel.agents = [model.AGENT((5,2),mymodel,\"1\"),model.AGENT((5,3),mymodel,\"2\")]\n",
    "mymodel.restCells = [model.RESTCELL((1,1),5),model.RESTCELL((1,10),5),model.RESTCELL((1,6),5)]\n",
    "\n",
    "confort_over_time = []\n",
    "\n",
    "mymodel.plot_Nb()\n",
    "for i in range (0,t):\n",
    "    mymodel.clear()\n",
    "    mymodel.plot_Nb()\n",
    "    confort_over_time.append(mymodel.totalComfort())\n",
    "    mymodel.plotManager.saveImage(mymodel,str(i))\n",
    "    sleep(1)\n",
    "    mymodel.newStep()"
   ]
  },
  {
   "cell_type": "code",
   "execution_count": 130,
   "metadata": {},
   "outputs": [
    {
     "data": {
      "text/plain": [
       "Text(0, 0.5, 'total confort')"
      ]
     },
     "execution_count": 130,
     "metadata": {},
     "output_type": "execute_result"
    },
    {
     "data": {
      "image/png": "[encoded data removed]",
      "text/plain": [
       "<Figure size 432x288 with 1 Axes>"
      ]
     },
     "metadata": {
      "needs_background": "light"
     },
     "output_type": "display_data"
    }
   ],
   "source": [
    "plt.plot(confort_over_time)\n",
    "plt.xlabel('time (number of step)')\n",
    "\n",
    "plt.ylabel('total confort')\n"
   ]
  },
  {
   "cell_type": "code",
   "execution_count": null,
   "metadata": {},
   "outputs": [],
   "source": []
  }
 ],
 "metadata": {
  "kernelspec": {
   "display_name": "Python 3",
   "language": "python",
   "name": "python3"
  },
  "language_info": {
   "codemirror_mode": {
    "name": "ipython",
    "version": 3
   },
   "file_extension": ".py",
   "mimetype": "text/x-python",
   "name": "python",
   "nbconvert_exporter": "python",
   "pygments_lexer": "ipython3",
   "version": "3.8.10"
  },
  "varInspector": {
   "cols": {
    "lenName": 16,
    "lenType": 16,
    "lenVar": 40
   },
   "kernels_config": {
    "python": {
     "delete_cmd_postfix": "",
     "delete_cmd_prefix": "del ",
     "library": "var_list.py",
     "varRefreshCmd": "print(var_dic_list())"
    },
    "r": {
     "delete_cmd_postfix": ") ",
     "delete_cmd_prefix": "rm(",
     "library": "var_list.r",
     "varRefreshCmd": "cat(var_dic_list()) "
    }
   },
   "types_to_exclude": [
    "module",
    "function",
    "builtin_function_or_method",
    "instance",
    "_Feature"
   ],
   "window_display": false
  }
 },
 "nbformat": 4,
 "nbformat_minor": 4
}
