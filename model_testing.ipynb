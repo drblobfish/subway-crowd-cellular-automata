{
 "cells": [
  {
   "cell_type": "code",
   "execution_count": 2,
   "metadata": {
    "scrolled": true
   },
   "outputs": [
    {
     "name": "stdout",
     "output_type": "stream",
     "text": [
      "The autoreload extension is already loaded. To reload it, use:\n",
      "  %reload_ext autoreload\n"
     ]
    },
    {
     "ename": "ModuleNotFoundError",
     "evalue": "No module named 'numpy'",
     "output_type": "error",
     "traceback": [
      "\u001b[0;31m---------------------------------------------------------------------------\u001b[0m",
      "\u001b[0;31mModuleNotFoundError\u001b[0m                       Traceback (most recent call last)",
      "\u001b[0;32m<ipython-input-2-b27500d868ec>\u001b[0m in \u001b[0;36m<module>\u001b[0;34m\u001b[0m\n\u001b[1;32m      3\u001b[0m \u001b[0mget_ipython\u001b[0m\u001b[0;34m(\u001b[0m\u001b[0;34m)\u001b[0m\u001b[0;34m.\u001b[0m\u001b[0mrun_line_magic\u001b[0m\u001b[0;34m(\u001b[0m\u001b[0;34m'reload_ext'\u001b[0m\u001b[0;34m,\u001b[0m \u001b[0;34m'autoreload'\u001b[0m\u001b[0;34m)\u001b[0m\u001b[0;34m\u001b[0m\u001b[0;34m\u001b[0m\u001b[0m\n\u001b[1;32m      4\u001b[0m \u001b[0mget_ipython\u001b[0m\u001b[0;34m(\u001b[0m\u001b[0;34m)\u001b[0m\u001b[0;34m.\u001b[0m\u001b[0mrun_line_magic\u001b[0m\u001b[0;34m(\u001b[0m\u001b[0;34m'autoreload'\u001b[0m\u001b[0;34m,\u001b[0m \u001b[0;34m'2'\u001b[0m\u001b[0;34m)\u001b[0m\u001b[0;34m\u001b[0m\u001b[0;34m\u001b[0m\u001b[0m\n\u001b[0;32m----> 5\u001b[0;31m \u001b[0;32mimport\u001b[0m \u001b[0mnumpy\u001b[0m \u001b[0;32mas\u001b[0m \u001b[0mnp\u001b[0m\u001b[0;34m\u001b[0m\u001b[0;34m\u001b[0m\u001b[0m\n\u001b[0m\u001b[1;32m      6\u001b[0m \u001b[0;32mfrom\u001b[0m \u001b[0mimportlib\u001b[0m \u001b[0;32mimport\u001b[0m \u001b[0mreload\u001b[0m\u001b[0;34m\u001b[0m\u001b[0;34m\u001b[0m\u001b[0m\n\u001b[1;32m      7\u001b[0m \u001b[0;32mimport\u001b[0m \u001b[0mmodel\u001b[0m\u001b[0;34m\u001b[0m\u001b[0;34m\u001b[0m\u001b[0m\n",
      "\u001b[0;31mModuleNotFoundError\u001b[0m: No module named 'numpy'"
     ]
    }
   ],
   "source": [
    "# These lines allow to work more easily on our module while using the notebook\n",
    "%load_ext autoreload\n",
    "%reload_ext autoreload\n",
    "%autoreload 2\n",
    "import numpy as np\n",
    "from importlib import reload\n",
    "import model"
   ]
  },
  {
   "cell_type": "code",
   "execution_count": 7,
   "metadata": {
    "scrolled": false
   },
   "outputs": [
    {
     "data": {
      "text/html": [
       "<svg width=\"120\" height=\"100\"><rect x=\"0\" y=\"0\" width=\"20\" height=\"20\" style=\"fill:white;stroke:black\" /><rect x=\"0\" y=\"20\" width=\"20\" height=\"20\" style=\"fill:white;stroke:black\" /><rect x=\"0\" y=\"40\" width=\"20\" height=\"20\" style=\"fill:white;stroke:black\" /><rect x=\"0\" y=\"60\" width=\"20\" height=\"20\" style=\"fill:white;stroke:black\" /><rect x=\"0\" y=\"80\" width=\"20\" height=\"20\" style=\"fill:white;stroke:black\" /><rect x=\"20\" y=\"0\" width=\"20\" height=\"20\" style=\"fill:white;stroke:black\" /><rect x=\"20\" y=\"20\" width=\"20\" height=\"20\" style=\"fill:white;stroke:black\" /><rect x=\"20\" y=\"40\" width=\"20\" height=\"20\" style=\"fill:white;stroke:black\" /><rect x=\"20\" y=\"60\" width=\"20\" height=\"20\" style=\"fill:white;stroke:black\" /><rect x=\"20\" y=\"80\" width=\"20\" height=\"20\" style=\"fill:white;stroke:black\" /><rect x=\"40\" y=\"0\" width=\"20\" height=\"20\" style=\"fill:white;stroke:black\" /><rect x=\"40\" y=\"20\" width=\"20\" height=\"20\" style=\"fill:grey;stroke:black\" /><rect x=\"40\" y=\"40\" width=\"20\" height=\"20\" style=\"fill:white;stroke:black\" /><rect x=\"40\" y=\"60\" width=\"20\" height=\"20\" style=\"fill:white;stroke:black\" /><rect x=\"40\" y=\"80\" width=\"20\" height=\"20\" style=\"fill:white;stroke:black\" /><rect x=\"60\" y=\"0\" width=\"20\" height=\"20\" style=\"fill:grey;stroke:black\" /><rect x=\"60\" y=\"20\" width=\"20\" height=\"20\" style=\"fill:white;stroke:black\" /><rect x=\"60\" y=\"40\" width=\"20\" height=\"20\" style=\"fill:white;stroke:black\" /><rect x=\"60\" y=\"60\" width=\"20\" height=\"20\" style=\"fill:white;stroke:black\" /><rect x=\"60\" y=\"80\" width=\"20\" height=\"20\" style=\"fill:white;stroke:black\" /><rect x=\"80\" y=\"0\" width=\"20\" height=\"20\" style=\"fill:white;stroke:black\" /><rect x=\"80\" y=\"20\" width=\"20\" height=\"20\" style=\"fill:white;stroke:black\" /><rect x=\"80\" y=\"40\" width=\"20\" height=\"20\" style=\"fill:white;stroke:black\" /><rect x=\"80\" y=\"60\" width=\"20\" height=\"20\" style=\"fill:white;stroke:black\" /><rect x=\"80\" y=\"80\" width=\"20\" height=\"20\" style=\"fill:white;stroke:black\" /><rect x=\"100\" y=\"0\" width=\"20\" height=\"20\" style=\"fill:white;stroke:black\" /><rect x=\"100\" y=\"20\" width=\"20\" height=\"20\" style=\"fill:white;stroke:black\" /><rect x=\"100\" y=\"40\" width=\"20\" height=\"20\" style=\"fill:white;stroke:black\" /><rect x=\"100\" y=\"60\" width=\"20\" height=\"20\" style=\"fill:white;stroke:black\" /><rect x=\"100\" y=\"80\" width=\"20\" height=\"20\" style=\"fill:white;stroke:black\" /><rect x=\"2\" y=\"22\" width=\"16\" height=\"16\" style=\"fill:green;stroke:green\" /><circle cx=\"10\" cy=\"10\" r=\"8\" fill=\"red\" /><circle cx=\"70\" cy=\"30\" r=\"8\" fill=\"red\" /></svg>"
      ],
      "text/plain": [
       "<IPython.core.display.HTML object>"
      ]
     },
     "metadata": {},
     "output_type": "display_data"
    },
    {
     "data": {
      "text/html": [
       "<svg width=\"120\" height=\"100\"><rect x=\"0\" y=\"0\" width=\"20\" height=\"20\" style=\"fill:white;stroke:black\" /><rect x=\"0\" y=\"20\" width=\"20\" height=\"20\" style=\"fill:white;stroke:black\" /><rect x=\"0\" y=\"40\" width=\"20\" height=\"20\" style=\"fill:white;stroke:black\" /><rect x=\"0\" y=\"60\" width=\"20\" height=\"20\" style=\"fill:white;stroke:black\" /><rect x=\"0\" y=\"80\" width=\"20\" height=\"20\" style=\"fill:white;stroke:black\" /><rect x=\"20\" y=\"0\" width=\"20\" height=\"20\" style=\"fill:white;stroke:black\" /><rect x=\"20\" y=\"20\" width=\"20\" height=\"20\" style=\"fill:white;stroke:black\" /><rect x=\"20\" y=\"40\" width=\"20\" height=\"20\" style=\"fill:white;stroke:black\" /><rect x=\"20\" y=\"60\" width=\"20\" height=\"20\" style=\"fill:white;stroke:black\" /><rect x=\"20\" y=\"80\" width=\"20\" height=\"20\" style=\"fill:white;stroke:black\" /><rect x=\"40\" y=\"0\" width=\"20\" height=\"20\" style=\"fill:white;stroke:black\" /><rect x=\"40\" y=\"20\" width=\"20\" height=\"20\" style=\"fill:grey;stroke:black\" /><rect x=\"40\" y=\"40\" width=\"20\" height=\"20\" style=\"fill:white;stroke:black\" /><rect x=\"40\" y=\"60\" width=\"20\" height=\"20\" style=\"fill:white;stroke:black\" /><rect x=\"40\" y=\"80\" width=\"20\" height=\"20\" style=\"fill:white;stroke:black\" /><rect x=\"60\" y=\"0\" width=\"20\" height=\"20\" style=\"fill:grey;stroke:black\" /><rect x=\"60\" y=\"20\" width=\"20\" height=\"20\" style=\"fill:white;stroke:black\" /><rect x=\"60\" y=\"40\" width=\"20\" height=\"20\" style=\"fill:white;stroke:black\" /><rect x=\"60\" y=\"60\" width=\"20\" height=\"20\" style=\"fill:white;stroke:black\" /><rect x=\"60\" y=\"80\" width=\"20\" height=\"20\" style=\"fill:white;stroke:black\" /><rect x=\"80\" y=\"0\" width=\"20\" height=\"20\" style=\"fill:white;stroke:black\" /><rect x=\"80\" y=\"20\" width=\"20\" height=\"20\" style=\"fill:white;stroke:black\" /><rect x=\"80\" y=\"40\" width=\"20\" height=\"20\" style=\"fill:white;stroke:black\" /><rect x=\"80\" y=\"60\" width=\"20\" height=\"20\" style=\"fill:white;stroke:black\" /><rect x=\"80\" y=\"80\" width=\"20\" height=\"20\" style=\"fill:white;stroke:black\" /><rect x=\"100\" y=\"0\" width=\"20\" height=\"20\" style=\"fill:white;stroke:black\" /><rect x=\"100\" y=\"20\" width=\"20\" height=\"20\" style=\"fill:white;stroke:black\" /><rect x=\"100\" y=\"40\" width=\"20\" height=\"20\" style=\"fill:white;stroke:black\" /><rect x=\"100\" y=\"60\" width=\"20\" height=\"20\" style=\"fill:white;stroke:black\" /><rect x=\"100\" y=\"80\" width=\"20\" height=\"20\" style=\"fill:white;stroke:black\" /><rect x=\"2\" y=\"22\" width=\"16\" height=\"16\" style=\"fill:green;stroke:green\" /><circle cx=\"10\" cy=\"10\" r=\"8\" fill=\"red\" /><circle cx=\"10\" cy=\"30\" r=\"8\" fill=\"red\" /></svg>"
      ],
      "text/plain": [
       "<IPython.core.display.HTML object>"
      ]
     },
     "metadata": {},
     "output_type": "display_data"
    },
    {
     "data": {
      "text/html": [
       "<svg width=\"120\" height=\"100\"><rect x=\"0\" y=\"0\" width=\"20\" height=\"20\" style=\"fill:white;stroke:black\" /><rect x=\"0\" y=\"20\" width=\"20\" height=\"20\" style=\"fill:white;stroke:black\" /><rect x=\"0\" y=\"40\" width=\"20\" height=\"20\" style=\"fill:white;stroke:black\" /><rect x=\"0\" y=\"60\" width=\"20\" height=\"20\" style=\"fill:white;stroke:black\" /><rect x=\"0\" y=\"80\" width=\"20\" height=\"20\" style=\"fill:white;stroke:black\" /><rect x=\"20\" y=\"0\" width=\"20\" height=\"20\" style=\"fill:white;stroke:black\" /><rect x=\"20\" y=\"20\" width=\"20\" height=\"20\" style=\"fill:white;stroke:black\" /><rect x=\"20\" y=\"40\" width=\"20\" height=\"20\" style=\"fill:white;stroke:black\" /><rect x=\"20\" y=\"60\" width=\"20\" height=\"20\" style=\"fill:white;stroke:black\" /><rect x=\"20\" y=\"80\" width=\"20\" height=\"20\" style=\"fill:white;stroke:black\" /><rect x=\"40\" y=\"0\" width=\"20\" height=\"20\" style=\"fill:white;stroke:black\" /><rect x=\"40\" y=\"20\" width=\"20\" height=\"20\" style=\"fill:grey;stroke:black\" /><rect x=\"40\" y=\"40\" width=\"20\" height=\"20\" style=\"fill:white;stroke:black\" /><rect x=\"40\" y=\"60\" width=\"20\" height=\"20\" style=\"fill:white;stroke:black\" /><rect x=\"40\" y=\"80\" width=\"20\" height=\"20\" style=\"fill:white;stroke:black\" /><rect x=\"60\" y=\"0\" width=\"20\" height=\"20\" style=\"fill:grey;stroke:black\" /><rect x=\"60\" y=\"20\" width=\"20\" height=\"20\" style=\"fill:white;stroke:black\" /><rect x=\"60\" y=\"40\" width=\"20\" height=\"20\" style=\"fill:white;stroke:black\" /><rect x=\"60\" y=\"60\" width=\"20\" height=\"20\" style=\"fill:white;stroke:black\" /><rect x=\"60\" y=\"80\" width=\"20\" height=\"20\" style=\"fill:white;stroke:black\" /><rect x=\"80\" y=\"0\" width=\"20\" height=\"20\" style=\"fill:white;stroke:black\" /><rect x=\"80\" y=\"20\" width=\"20\" height=\"20\" style=\"fill:white;stroke:black\" /><rect x=\"80\" y=\"40\" width=\"20\" height=\"20\" style=\"fill:white;stroke:black\" /><rect x=\"80\" y=\"60\" width=\"20\" height=\"20\" style=\"fill:white;stroke:black\" /><rect x=\"80\" y=\"80\" width=\"20\" height=\"20\" style=\"fill:white;stroke:black\" /><rect x=\"100\" y=\"0\" width=\"20\" height=\"20\" style=\"fill:white;stroke:black\" /><rect x=\"100\" y=\"20\" width=\"20\" height=\"20\" style=\"fill:white;stroke:black\" /><rect x=\"100\" y=\"40\" width=\"20\" height=\"20\" style=\"fill:white;stroke:black\" /><rect x=\"100\" y=\"60\" width=\"20\" height=\"20\" style=\"fill:white;stroke:black\" /><rect x=\"100\" y=\"80\" width=\"20\" height=\"20\" style=\"fill:white;stroke:black\" /><rect x=\"2\" y=\"22\" width=\"16\" height=\"16\" style=\"fill:green;stroke:green\" /><circle cx=\"10\" cy=\"30\" r=\"8\" fill=\"red\" /><circle cx=\"10\" cy=\"30\" r=\"8\" fill=\"red\" /></svg>"
      ],
      "text/plain": [
       "<IPython.core.display.HTML object>"
      ]
     },
     "metadata": {},
     "output_type": "display_data"
    }
   ],
   "source": [
    "mymodel = model.MODEL(5,6)\n",
    "mymodel.verbose = False\n",
    "mymodel.walls[(0,3)] = 1\n",
    "mymodel.walls[(1,2)] = 1\n",
    "mymodel.agents = [model.AGENT((0,0),mymodel),model.AGENT((1,3),mymodel)]\n",
    "mymodel.restCells = [model.RESTCELL((1,0),15)]\n",
    "mymodel.play_model(t)"
   ]
  },
  {
   "cell_type": "code",
   "execution_count": null,
   "metadata": {},
   "outputs": [],
   "source": []
  },
  {
   "cell_type": "code",
   "execution_count": null,
   "metadata": {},
   "outputs": [],
   "source": []
  }
 ],
 "metadata": {
  "kernelspec": {
   "display_name": "Python 3",
   "language": "python",
   "name": "python3"
  },
  "language_info": {
   "codemirror_mode": {
    "name": "ipython",
    "version": 3
   },
   "file_extension": ".py",
   "mimetype": "text/x-python",
   "name": "python",
   "nbconvert_exporter": "python",
   "pygments_lexer": "ipython3",
   "version": "3.6.9"
  },
  "varInspector": {
   "cols": {
    "lenName": 16,
    "lenType": 16,
    "lenVar": 40
   },
   "kernels_config": {
    "python": {
     "delete_cmd_postfix": "",
     "delete_cmd_prefix": "del ",
     "library": "var_list.py",
     "varRefreshCmd": "print(var_dic_list())"
    },
    "r": {
     "delete_cmd_postfix": ") ",
     "delete_cmd_prefix": "rm(",
     "library": "var_list.r",
     "varRefreshCmd": "cat(var_dic_list()) "
    }
   },
   "types_to_exclude": [
    "module",
    "function",
    "builtin_function_or_method",
    "instance",
    "_Feature"
   ],
   "window_display": false
  }
 },
 "nbformat": 4,
 "nbformat_minor": 4
}
