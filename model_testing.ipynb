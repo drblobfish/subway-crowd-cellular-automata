{
 "cells": [
  {
   "cell_type": "code",
   "execution_count": 5,
   "metadata": {},
   "outputs": [
    {
     "name": "stdout",
     "output_type": "stream",
     "text": [
      "Defaulting to user installation because normal site-packages is not writeable\n",
      "Collecting html2image\n",
      "  Downloading html2image-2.0.1-py3-none-any.whl (17 kB)\n",
      "Installing collected packages: html2image\n",
      "Successfully installed html2image-2.0.1\n"
     ]
    }
   ],
   "source": [
    "!pip install html2image"
   ]
  },
  {
   "cell_type": "code",
   "execution_count": 14,
   "metadata": {
    "scrolled": true
   },
   "outputs": [
    {
     "name": "stdout",
     "output_type": "stream",
     "text": [
      "The autoreload extension is already loaded. To reload it, use:\n",
      "  %reload_ext autoreload\n"
     ]
    }
   ],
   "source": [
    "# These lines allow to work more easily on our module while using the notebook\n",
    "%load_ext autoreload\n",
    "%reload_ext autoreload\n",
    "%autoreload 2\n",
    "import numpy as np\n",
    "from importlib import reload\n",
    "import model"
   ]
  },
  {
   "cell_type": "code",
   "execution_count": 20,
   "metadata": {
    "scrolled": false
   },
   "outputs": [
    {
     "data": {
      "text/html": [
       "<svg width=\"240\" height=\"240\"><rect x=\"0\" y=\"0\" width=\"20\" height=\"20\" style=\"fill:grey;stroke:black\" /><rect x=\"0\" y=\"20\" width=\"20\" height=\"20\" style=\"fill:grey;stroke:black\" /><rect x=\"0\" y=\"40\" width=\"20\" height=\"20\" style=\"fill:grey;stroke:black\" /><rect x=\"0\" y=\"60\" width=\"20\" height=\"20\" style=\"fill:grey;stroke:black\" /><rect x=\"0\" y=\"80\" width=\"20\" height=\"20\" style=\"fill:grey;stroke:black\" /><rect x=\"0\" y=\"100\" width=\"20\" height=\"20\" style=\"fill:grey;stroke:black\" /><rect x=\"0\" y=\"120\" width=\"20\" height=\"20\" style=\"fill:grey;stroke:black\" /><rect x=\"0\" y=\"140\" width=\"20\" height=\"20\" style=\"fill:grey;stroke:black\" /><rect x=\"0\" y=\"160\" width=\"20\" height=\"20\" style=\"fill:grey;stroke:black\" /><rect x=\"0\" y=\"180\" width=\"20\" height=\"20\" style=\"fill:grey;stroke:black\" /><rect x=\"0\" y=\"200\" width=\"20\" height=\"20\" style=\"fill:grey;stroke:black\" /><rect x=\"0\" y=\"220\" width=\"20\" height=\"20\" style=\"fill:grey;stroke:black\" /><rect x=\"20\" y=\"0\" width=\"20\" height=\"20\" style=\"fill:grey;stroke:black\" /><rect x=\"20\" y=\"20\" width=\"20\" height=\"20\" style=\"fill:white;stroke:black\" /><rect x=\"20\" y=\"40\" width=\"20\" height=\"20\" style=\"fill:white;stroke:black\" /><rect x=\"20\" y=\"60\" width=\"20\" height=\"20\" style=\"fill:white;stroke:black\" /><rect x=\"20\" y=\"80\" width=\"20\" height=\"20\" style=\"fill:white;stroke:black\" /><rect x=\"20\" y=\"100\" width=\"20\" height=\"20\" style=\"fill:white;stroke:black\" /><rect x=\"20\" y=\"120\" width=\"20\" height=\"20\" style=\"fill:white;stroke:black\" /><rect x=\"20\" y=\"140\" width=\"20\" height=\"20\" style=\"fill:white;stroke:black\" /><rect x=\"20\" y=\"160\" width=\"20\" height=\"20\" style=\"fill:white;stroke:black\" /><rect x=\"20\" y=\"180\" width=\"20\" height=\"20\" style=\"fill:white;stroke:black\" /><rect x=\"20\" y=\"200\" width=\"20\" height=\"20\" style=\"fill:white;stroke:black\" /><rect x=\"20\" y=\"220\" width=\"20\" height=\"20\" style=\"fill:grey;stroke:black\" /><rect x=\"40\" y=\"0\" width=\"20\" height=\"20\" style=\"fill:grey;stroke:black\" /><rect x=\"40\" y=\"20\" width=\"20\" height=\"20\" style=\"fill:white;stroke:black\" /><rect x=\"40\" y=\"40\" width=\"20\" height=\"20\" style=\"fill:white;stroke:black\" /><rect x=\"40\" y=\"60\" width=\"20\" height=\"20\" style=\"fill:white;stroke:black\" /><rect x=\"40\" y=\"80\" width=\"20\" height=\"20\" style=\"fill:white;stroke:black\" /><rect x=\"40\" y=\"100\" width=\"20\" height=\"20\" style=\"fill:white;stroke:black\" /><rect x=\"40\" y=\"120\" width=\"20\" height=\"20\" style=\"fill:white;stroke:black\" /><rect x=\"40\" y=\"140\" width=\"20\" height=\"20\" style=\"fill:white;stroke:black\" /><rect x=\"40\" y=\"160\" width=\"20\" height=\"20\" style=\"fill:white;stroke:black\" /><rect x=\"40\" y=\"180\" width=\"20\" height=\"20\" style=\"fill:white;stroke:black\" /><rect x=\"40\" y=\"200\" width=\"20\" height=\"20\" style=\"fill:white;stroke:black\" /><rect x=\"40\" y=\"220\" width=\"20\" height=\"20\" style=\"fill:white;stroke:black\" /><rect x=\"60\" y=\"0\" width=\"20\" height=\"20\" style=\"fill:grey;stroke:black\" /><rect x=\"60\" y=\"20\" width=\"20\" height=\"20\" style=\"fill:grey;stroke:black\" /><rect x=\"60\" y=\"40\" width=\"20\" height=\"20\" style=\"fill:white;stroke:black\" /><rect x=\"60\" y=\"60\" width=\"20\" height=\"20\" style=\"fill:white;stroke:black\" /><rect x=\"60\" y=\"80\" width=\"20\" height=\"20\" style=\"fill:white;stroke:black\" /><rect x=\"60\" y=\"100\" width=\"20\" height=\"20\" style=\"fill:white;stroke:black\" /><rect x=\"60\" y=\"120\" width=\"20\" height=\"20\" style=\"fill:white;stroke:black\" /><rect x=\"60\" y=\"140\" width=\"20\" height=\"20\" style=\"fill:white;stroke:black\" /><rect x=\"60\" y=\"160\" width=\"20\" height=\"20\" style=\"fill:white;stroke:black\" /><rect x=\"60\" y=\"180\" width=\"20\" height=\"20\" style=\"fill:white;stroke:black\" /><rect x=\"60\" y=\"200\" width=\"20\" height=\"20\" style=\"fill:white;stroke:black\" /><rect x=\"60\" y=\"220\" width=\"20\" height=\"20\" style=\"fill:white;stroke:black\" /><rect x=\"80\" y=\"0\" width=\"20\" height=\"20\" style=\"fill:grey;stroke:black\" /><rect x=\"80\" y=\"20\" width=\"20\" height=\"20\" style=\"fill:white;stroke:black\" /><rect x=\"80\" y=\"40\" width=\"20\" height=\"20\" style=\"fill:white;stroke:black\" /><rect x=\"80\" y=\"60\" width=\"20\" height=\"20\" style=\"fill:white;stroke:black\" /><rect x=\"80\" y=\"80\" width=\"20\" height=\"20\" style=\"fill:white;stroke:black\" /><rect x=\"80\" y=\"100\" width=\"20\" height=\"20\" style=\"fill:white;stroke:black\" /><rect x=\"80\" y=\"120\" width=\"20\" height=\"20\" style=\"fill:white;stroke:black\" /><rect x=\"80\" y=\"140\" width=\"20\" height=\"20\" style=\"fill:white;stroke:black\" /><rect x=\"80\" y=\"160\" width=\"20\" height=\"20\" style=\"fill:white;stroke:black\" /><rect x=\"80\" y=\"180\" width=\"20\" height=\"20\" style=\"fill:white;stroke:black\" /><rect x=\"80\" y=\"200\" width=\"20\" height=\"20\" style=\"fill:white;stroke:black\" /><rect x=\"80\" y=\"220\" width=\"20\" height=\"20\" style=\"fill:grey;stroke:black\" /><rect x=\"100\" y=\"0\" width=\"20\" height=\"20\" style=\"fill:grey;stroke:black\" /><rect x=\"100\" y=\"20\" width=\"20\" height=\"20\" style=\"fill:white;stroke:black\" /><rect x=\"100\" y=\"40\" width=\"20\" height=\"20\" style=\"fill:white;stroke:black\" /><rect x=\"100\" y=\"60\" width=\"20\" height=\"20\" style=\"fill:white;stroke:black\" /><rect x=\"100\" y=\"80\" width=\"20\" height=\"20\" style=\"fill:white;stroke:black\" /><rect x=\"100\" y=\"100\" width=\"20\" height=\"20\" style=\"fill:white;stroke:black\" /><rect x=\"100\" y=\"120\" width=\"20\" height=\"20\" style=\"fill:white;stroke:black\" /><rect x=\"100\" y=\"140\" width=\"20\" height=\"20\" style=\"fill:white;stroke:black\" /><rect x=\"100\" y=\"160\" width=\"20\" height=\"20\" style=\"fill:white;stroke:black\" /><rect x=\"100\" y=\"180\" width=\"20\" height=\"20\" style=\"fill:white;stroke:black\" /><rect x=\"100\" y=\"200\" width=\"20\" height=\"20\" style=\"fill:white;stroke:black\" /><rect x=\"100\" y=\"220\" width=\"20\" height=\"20\" style=\"fill:grey;stroke:black\" /><rect x=\"120\" y=\"0\" width=\"20\" height=\"20\" style=\"fill:grey;stroke:black\" /><rect x=\"120\" y=\"20\" width=\"20\" height=\"20\" style=\"fill:white;stroke:black\" /><rect x=\"120\" y=\"40\" width=\"20\" height=\"20\" style=\"fill:white;stroke:black\" /><rect x=\"120\" y=\"60\" width=\"20\" height=\"20\" style=\"fill:white;stroke:black\" /><rect x=\"120\" y=\"80\" width=\"20\" height=\"20\" style=\"fill:white;stroke:black\" /><rect x=\"120\" y=\"100\" width=\"20\" height=\"20\" style=\"fill:white;stroke:black\" /><rect x=\"120\" y=\"120\" width=\"20\" height=\"20\" style=\"fill:white;stroke:black\" /><rect x=\"120\" y=\"140\" width=\"20\" height=\"20\" style=\"fill:white;stroke:black\" /><rect x=\"120\" y=\"160\" width=\"20\" height=\"20\" style=\"fill:white;stroke:black\" /><rect x=\"120\" y=\"180\" width=\"20\" height=\"20\" style=\"fill:white;stroke:black\" /><rect x=\"120\" y=\"200\" width=\"20\" height=\"20\" style=\"fill:white;stroke:black\" /><rect x=\"120\" y=\"220\" width=\"20\" height=\"20\" style=\"fill:grey;stroke:black\" /><rect x=\"140\" y=\"0\" width=\"20\" height=\"20\" style=\"fill:grey;stroke:black\" /><rect x=\"140\" y=\"20\" width=\"20\" height=\"20\" style=\"fill:white;stroke:black\" /><rect x=\"140\" y=\"40\" width=\"20\" height=\"20\" style=\"fill:white;stroke:black\" /><rect x=\"140\" y=\"60\" width=\"20\" height=\"20\" style=\"fill:white;stroke:black\" /><rect x=\"140\" y=\"80\" width=\"20\" height=\"20\" style=\"fill:white;stroke:black\" /><rect x=\"140\" y=\"100\" width=\"20\" height=\"20\" style=\"fill:white;stroke:black\" /><rect x=\"140\" y=\"120\" width=\"20\" height=\"20\" style=\"fill:white;stroke:black\" /><rect x=\"140\" y=\"140\" width=\"20\" height=\"20\" style=\"fill:white;stroke:black\" /><rect x=\"140\" y=\"160\" width=\"20\" height=\"20\" style=\"fill:white;stroke:black\" /><rect x=\"140\" y=\"180\" width=\"20\" height=\"20\" style=\"fill:white;stroke:black\" /><rect x=\"140\" y=\"200\" width=\"20\" height=\"20\" style=\"fill:white;stroke:black\" /><rect x=\"140\" y=\"220\" width=\"20\" height=\"20\" style=\"fill:grey;stroke:black\" /><rect x=\"160\" y=\"0\" width=\"20\" height=\"20\" style=\"fill:grey;stroke:black\" /><rect x=\"160\" y=\"20\" width=\"20\" height=\"20\" style=\"fill:white;stroke:black\" /><rect x=\"160\" y=\"40\" width=\"20\" height=\"20\" style=\"fill:white;stroke:black\" /><rect x=\"160\" y=\"60\" width=\"20\" height=\"20\" style=\"fill:white;stroke:black\" /><rect x=\"160\" y=\"80\" width=\"20\" height=\"20\" style=\"fill:white;stroke:black\" /><rect x=\"160\" y=\"100\" width=\"20\" height=\"20\" style=\"fill:white;stroke:black\" /><rect x=\"160\" y=\"120\" width=\"20\" height=\"20\" style=\"fill:white;stroke:black\" /><rect x=\"160\" y=\"140\" width=\"20\" height=\"20\" style=\"fill:white;stroke:black\" /><rect x=\"160\" y=\"160\" width=\"20\" height=\"20\" style=\"fill:white;stroke:black\" /><rect x=\"160\" y=\"180\" width=\"20\" height=\"20\" style=\"fill:white;stroke:black\" /><rect x=\"160\" y=\"200\" width=\"20\" height=\"20\" style=\"fill:white;stroke:black\" /><rect x=\"160\" y=\"220\" width=\"20\" height=\"20\" style=\"fill:grey;stroke:black\" /><rect x=\"180\" y=\"0\" width=\"20\" height=\"20\" style=\"fill:grey;stroke:black\" /><rect x=\"180\" y=\"20\" width=\"20\" height=\"20\" style=\"fill:white;stroke:black\" /><rect x=\"180\" y=\"40\" width=\"20\" height=\"20\" style=\"fill:white;stroke:black\" /><rect x=\"180\" y=\"60\" width=\"20\" height=\"20\" style=\"fill:white;stroke:black\" /><rect x=\"180\" y=\"80\" width=\"20\" height=\"20\" style=\"fill:white;stroke:black\" /><rect x=\"180\" y=\"100\" width=\"20\" height=\"20\" style=\"fill:white;stroke:black\" /><rect x=\"180\" y=\"120\" width=\"20\" height=\"20\" style=\"fill:white;stroke:black\" /><rect x=\"180\" y=\"140\" width=\"20\" height=\"20\" style=\"fill:white;stroke:black\" /><rect x=\"180\" y=\"160\" width=\"20\" height=\"20\" style=\"fill:white;stroke:black\" /><rect x=\"180\" y=\"180\" width=\"20\" height=\"20\" style=\"fill:white;stroke:black\" /><rect x=\"180\" y=\"200\" width=\"20\" height=\"20\" style=\"fill:white;stroke:black\" /><rect x=\"180\" y=\"220\" width=\"20\" height=\"20\" style=\"fill:white;stroke:black\" /><rect x=\"200\" y=\"0\" width=\"20\" height=\"20\" style=\"fill:grey;stroke:black\" /><rect x=\"200\" y=\"20\" width=\"20\" height=\"20\" style=\"fill:white;stroke:black\" /><rect x=\"200\" y=\"40\" width=\"20\" height=\"20\" style=\"fill:white;stroke:black\" /><rect x=\"200\" y=\"60\" width=\"20\" height=\"20\" style=\"fill:white;stroke:black\" /><rect x=\"200\" y=\"80\" width=\"20\" height=\"20\" style=\"fill:white;stroke:black\" /><rect x=\"200\" y=\"100\" width=\"20\" height=\"20\" style=\"fill:white;stroke:black\" /><rect x=\"200\" y=\"120\" width=\"20\" height=\"20\" style=\"fill:white;stroke:black\" /><rect x=\"200\" y=\"140\" width=\"20\" height=\"20\" style=\"fill:white;stroke:black\" /><rect x=\"200\" y=\"160\" width=\"20\" height=\"20\" style=\"fill:white;stroke:black\" /><rect x=\"200\" y=\"180\" width=\"20\" height=\"20\" style=\"fill:white;stroke:black\" /><rect x=\"200\" y=\"200\" width=\"20\" height=\"20\" style=\"fill:white;stroke:black\" /><rect x=\"200\" y=\"220\" width=\"20\" height=\"20\" style=\"fill:white;stroke:black\" /><rect x=\"220\" y=\"0\" width=\"20\" height=\"20\" style=\"fill:grey;stroke:black\" /><rect x=\"220\" y=\"20\" width=\"20\" height=\"20\" style=\"fill:white;stroke:black\" /><rect x=\"220\" y=\"40\" width=\"20\" height=\"20\" style=\"fill:white;stroke:black\" /><rect x=\"220\" y=\"60\" width=\"20\" height=\"20\" style=\"fill:white;stroke:black\" /><rect x=\"220\" y=\"80\" width=\"20\" height=\"20\" style=\"fill:white;stroke:black\" /><rect x=\"220\" y=\"100\" width=\"20\" height=\"20\" style=\"fill:white;stroke:black\" /><rect x=\"220\" y=\"120\" width=\"20\" height=\"20\" style=\"fill:white;stroke:black\" /><rect x=\"220\" y=\"140\" width=\"20\" height=\"20\" style=\"fill:white;stroke:black\" /><rect x=\"220\" y=\"160\" width=\"20\" height=\"20\" style=\"fill:white;stroke:black\" /><rect x=\"220\" y=\"180\" width=\"20\" height=\"20\" style=\"fill:white;stroke:black\" /><rect x=\"220\" y=\"200\" width=\"20\" height=\"20\" style=\"fill:white;stroke:black\" /><rect x=\"220\" y=\"220\" width=\"20\" height=\"20\" style=\"fill:grey;stroke:black\" /><rect x=\"22\" y=\"142\" width=\"16\" height=\"16\" style=\"fill:green;stroke:green\" /><rect x=\"82\" y=\"82\" width=\"16\" height=\"16\" style=\"fill:green;stroke:green\" /><circle cx=\"90\" cy=\"90\" r=\"8\" fill=\"red\" /><text x=\"85\" y=\"95\" font-family=\"Arial\" font-size=\"15\"></text><circle cx=\"30\" cy=\"150\" r=\"8\" fill=\"red\" /><text x=\"25\" y=\"155\" font-family=\"Arial\" font-size=\"15\"></text></svg>"
      ],
      "text/plain": [
       "<IPython.core.display.HTML object>"
      ]
     },
     "metadata": {},
     "output_type": "display_data"
    }
   ],
   "source": [
    "mymodel = model.MODEL(12,12)\n",
    "mymodel.verbose = False\n",
    "mymodel.walls[(0,3)] = 1\n",
    "mymodel.walls[(1,3)] = 1\n",
    "mymodel.agents = [model.AGENT((0,5),mymodel),model.AGENT((0,4),mymodel)]\n",
    "mymodel.restCells = [model.RESTCELL((7,1),5),model.RESTCELL((4,4),5)]\n",
    "mymodel.play_model(8)\n"
   ]
  },
  {
   "cell_type": "code",
   "execution_count": null,
   "metadata": {},
   "outputs": [],
   "source": []
  },
  {
   "cell_type": "code",
   "execution_count": null,
   "metadata": {},
   "outputs": [],
   "source": []
  },
  {
   "cell_type": "code",
   "execution_count": null,
   "metadata": {},
   "outputs": [],
   "source": []
  }
 ],
 "metadata": {
  "kernelspec": {
   "display_name": "Python 3",
   "language": "python",
   "name": "python3"
  },
  "language_info": {
   "codemirror_mode": {
    "name": "ipython",
    "version": 3
   },
   "file_extension": ".py",
   "mimetype": "text/x-python",
   "name": "python",
   "nbconvert_exporter": "python",
   "pygments_lexer": "ipython3",
   "version": "3.6.9"
  },
  "varInspector": {
   "cols": {
    "lenName": 16,
    "lenType": 16,
    "lenVar": 40
   },
   "kernels_config": {
    "python": {
     "delete_cmd_postfix": "",
     "delete_cmd_prefix": "del ",
     "library": "var_list.py",
     "varRefreshCmd": "print(var_dic_list())"
    },
    "r": {
     "delete_cmd_postfix": ") ",
     "delete_cmd_prefix": "rm(",
     "library": "var_list.r",
     "varRefreshCmd": "cat(var_dic_list()) "
    }
   },
   "types_to_exclude": [
    "module",
    "function",
    "builtin_function_or_method",
    "instance",
    "_Feature"
   ],
   "window_display": false
  }
 },
 "nbformat": 4,
 "nbformat_minor": 4
}
