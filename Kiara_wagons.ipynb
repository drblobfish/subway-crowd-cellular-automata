{
 "cells": [
  {
   "cell_type": "code",
   "execution_count": 45,
   "id": "3cc5f39f",
   "metadata": {},
   "outputs": [
    {
     "name": "stdout",
     "output_type": "stream",
     "text": [
      "The autoreload extension is already loaded. To reload it, use:\n",
      "  %reload_ext autoreload\n"
     ]
    }
   ],
   "source": [
    "# These lines allow to work more easily on our module while using the notebook\n",
    "%load_ext autoreload\n",
    "%reload_ext autoreload\n",
    "%autoreload 2\n",
    "import numpy as np\n",
    "from importlib import reload\n",
    "import model\n",
    "import agents \n",
    "from time import sleep "
   ]
  },
  {
   "cell_type": "code",
   "execution_count": 39,
   "id": "65a4df2d",
   "metadata": {},
   "outputs": [
    {
     "data": {
      "text/html": [
       "<svg width=\"300\" height=\"140\"><rect x=\"0\" y=\"0\" width=\"20\" height=\"20\" style=\"fill:grey;stroke:black\" /><rect x=\"0\" y=\"20\" width=\"20\" height=\"20\" style=\"fill:grey;stroke:black\" /><rect x=\"0\" y=\"40\" width=\"20\" height=\"20\" style=\"fill:grey;stroke:black\" /><rect x=\"0\" y=\"60\" width=\"20\" height=\"20\" style=\"fill:grey;stroke:black\" /><rect x=\"0\" y=\"80\" width=\"20\" height=\"20\" style=\"fill:grey;stroke:black\" /><rect x=\"0\" y=\"100\" width=\"20\" height=\"20\" style=\"fill:grey;stroke:black\" /><rect x=\"0\" y=\"120\" width=\"20\" height=\"20\" style=\"fill:grey;stroke:black\" /><rect x=\"20\" y=\"0\" width=\"20\" height=\"20\" style=\"fill:grey;stroke:black\" /><rect x=\"20\" y=\"20\" width=\"20\" height=\"20\" style=\"fill:white;stroke:black\" /><rect x=\"20\" y=\"40\" width=\"20\" height=\"20\" style=\"fill:white;stroke:black\" /><rect x=\"20\" y=\"60\" width=\"20\" height=\"20\" style=\"fill:white;stroke:black\" /><rect x=\"20\" y=\"80\" width=\"20\" height=\"20\" style=\"fill:white;stroke:black\" /><rect x=\"20\" y=\"100\" width=\"20\" height=\"20\" style=\"fill:white;stroke:black\" /><rect x=\"20\" y=\"120\" width=\"20\" height=\"20\" style=\"fill:grey;stroke:black\" /><rect x=\"40\" y=\"0\" width=\"20\" height=\"20\" style=\"fill:grey;stroke:black\" /><rect x=\"40\" y=\"20\" width=\"20\" height=\"20\" style=\"fill:white;stroke:black\" /><rect x=\"40\" y=\"40\" width=\"20\" height=\"20\" style=\"fill:white;stroke:black\" /><rect x=\"40\" y=\"60\" width=\"20\" height=\"20\" style=\"fill:white;stroke:black\" /><rect x=\"40\" y=\"80\" width=\"20\" height=\"20\" style=\"fill:white;stroke:black\" /><rect x=\"40\" y=\"100\" width=\"20\" height=\"20\" style=\"fill:white;stroke:black\" /><rect x=\"40\" y=\"120\" width=\"20\" height=\"20\" style=\"fill:white;stroke:black\" /><rect x=\"60\" y=\"0\" width=\"20\" height=\"20\" style=\"fill:grey;stroke:black\" /><rect x=\"60\" y=\"20\" width=\"20\" height=\"20\" style=\"fill:grey;stroke:black\" /><rect x=\"60\" y=\"40\" width=\"20\" height=\"20\" style=\"fill:white;stroke:black\" /><rect x=\"60\" y=\"60\" width=\"20\" height=\"20\" style=\"fill:white;stroke:black\" /><rect x=\"60\" y=\"80\" width=\"20\" height=\"20\" style=\"fill:white;stroke:black\" /><rect x=\"60\" y=\"100\" width=\"20\" height=\"20\" style=\"fill:white;stroke:black\" /><rect x=\"60\" y=\"120\" width=\"20\" height=\"20\" style=\"fill:white;stroke:black\" /><rect x=\"80\" y=\"0\" width=\"20\" height=\"20\" style=\"fill:grey;stroke:black\" /><rect x=\"80\" y=\"20\" width=\"20\" height=\"20\" style=\"fill:grey;stroke:black\" /><rect x=\"80\" y=\"40\" width=\"20\" height=\"20\" style=\"fill:white;stroke:black\" /><rect x=\"80\" y=\"60\" width=\"20\" height=\"20\" style=\"fill:white;stroke:black\" /><rect x=\"80\" y=\"80\" width=\"20\" height=\"20\" style=\"fill:white;stroke:black\" /><rect x=\"80\" y=\"100\" width=\"20\" height=\"20\" style=\"fill:white;stroke:black\" /><rect x=\"80\" y=\"120\" width=\"20\" height=\"20\" style=\"fill:grey;stroke:black\" /><rect x=\"100\" y=\"0\" width=\"20\" height=\"20\" style=\"fill:grey;stroke:black\" /><rect x=\"100\" y=\"20\" width=\"20\" height=\"20\" style=\"fill:white;stroke:black\" /><rect x=\"100\" y=\"40\" width=\"20\" height=\"20\" style=\"fill:white;stroke:black\" /><rect x=\"100\" y=\"60\" width=\"20\" height=\"20\" style=\"fill:white;stroke:black\" /><rect x=\"100\" y=\"80\" width=\"20\" height=\"20\" style=\"fill:white;stroke:black\" /><rect x=\"100\" y=\"100\" width=\"20\" height=\"20\" style=\"fill:white;stroke:black\" /><rect x=\"100\" y=\"120\" width=\"20\" height=\"20\" style=\"fill:grey;stroke:black\" /><rect x=\"120\" y=\"0\" width=\"20\" height=\"20\" style=\"fill:grey;stroke:black\" /><rect x=\"120\" y=\"20\" width=\"20\" height=\"20\" style=\"fill:white;stroke:black\" /><rect x=\"120\" y=\"40\" width=\"20\" height=\"20\" style=\"fill:white;stroke:black\" /><rect x=\"120\" y=\"60\" width=\"20\" height=\"20\" style=\"fill:white;stroke:black\" /><rect x=\"120\" y=\"80\" width=\"20\" height=\"20\" style=\"fill:white;stroke:black\" /><rect x=\"120\" y=\"100\" width=\"20\" height=\"20\" style=\"fill:white;stroke:black\" /><rect x=\"120\" y=\"120\" width=\"20\" height=\"20\" style=\"fill:grey;stroke:black\" /><rect x=\"140\" y=\"0\" width=\"20\" height=\"20\" style=\"fill:grey;stroke:black\" /><rect x=\"140\" y=\"20\" width=\"20\" height=\"20\" style=\"fill:white;stroke:black\" /><rect x=\"140\" y=\"40\" width=\"20\" height=\"20\" style=\"fill:white;stroke:black\" /><rect x=\"140\" y=\"60\" width=\"20\" height=\"20\" style=\"fill:white;stroke:black\" /><rect x=\"140\" y=\"80\" width=\"20\" height=\"20\" style=\"fill:white;stroke:black\" /><rect x=\"140\" y=\"100\" width=\"20\" height=\"20\" style=\"fill:white;stroke:black\" /><rect x=\"140\" y=\"120\" width=\"20\" height=\"20\" style=\"fill:grey;stroke:black\" /><rect x=\"160\" y=\"0\" width=\"20\" height=\"20\" style=\"fill:grey;stroke:black\" /><rect x=\"160\" y=\"20\" width=\"20\" height=\"20\" style=\"fill:white;stroke:black\" /><rect x=\"160\" y=\"40\" width=\"20\" height=\"20\" style=\"fill:white;stroke:black\" /><rect x=\"160\" y=\"60\" width=\"20\" height=\"20\" style=\"fill:white;stroke:black\" /><rect x=\"160\" y=\"80\" width=\"20\" height=\"20\" style=\"fill:white;stroke:black\" /><rect x=\"160\" y=\"100\" width=\"20\" height=\"20\" style=\"fill:white;stroke:black\" /><rect x=\"160\" y=\"120\" width=\"20\" height=\"20\" style=\"fill:grey;stroke:black\" /><rect x=\"180\" y=\"0\" width=\"20\" height=\"20\" style=\"fill:grey;stroke:black\" /><rect x=\"180\" y=\"20\" width=\"20\" height=\"20\" style=\"fill:white;stroke:black\" /><rect x=\"180\" y=\"40\" width=\"20\" height=\"20\" style=\"fill:white;stroke:black\" /><rect x=\"180\" y=\"60\" width=\"20\" height=\"20\" style=\"fill:white;stroke:black\" /><rect x=\"180\" y=\"80\" width=\"20\" height=\"20\" style=\"fill:white;stroke:black\" /><rect x=\"180\" y=\"100\" width=\"20\" height=\"20\" style=\"fill:white;stroke:black\" /><rect x=\"180\" y=\"120\" width=\"20\" height=\"20\" style=\"fill:grey;stroke:black\" /><rect x=\"200\" y=\"0\" width=\"20\" height=\"20\" style=\"fill:grey;stroke:black\" /><rect x=\"200\" y=\"20\" width=\"20\" height=\"20\" style=\"fill:grey;stroke:black\" /><rect x=\"200\" y=\"40\" width=\"20\" height=\"20\" style=\"fill:white;stroke:black\" /><rect x=\"200\" y=\"60\" width=\"20\" height=\"20\" style=\"fill:white;stroke:black\" /><rect x=\"200\" y=\"80\" width=\"20\" height=\"20\" style=\"fill:white;stroke:black\" /><rect x=\"200\" y=\"100\" width=\"20\" height=\"20\" style=\"fill:white;stroke:black\" /><rect x=\"200\" y=\"120\" width=\"20\" height=\"20\" style=\"fill:grey;stroke:black\" /><rect x=\"220\" y=\"0\" width=\"20\" height=\"20\" style=\"fill:grey;stroke:black\" /><rect x=\"220\" y=\"20\" width=\"20\" height=\"20\" style=\"fill:white;stroke:black\" /><rect x=\"220\" y=\"40\" width=\"20\" height=\"20\" style=\"fill:white;stroke:black\" /><rect x=\"220\" y=\"60\" width=\"20\" height=\"20\" style=\"fill:white;stroke:black\" /><rect x=\"220\" y=\"80\" width=\"20\" height=\"20\" style=\"fill:white;stroke:black\" /><rect x=\"220\" y=\"100\" width=\"20\" height=\"20\" style=\"fill:white;stroke:black\" /><rect x=\"220\" y=\"120\" width=\"20\" height=\"20\" style=\"fill:white;stroke:black\" /><rect x=\"240\" y=\"0\" width=\"20\" height=\"20\" style=\"fill:grey;stroke:black\" /><rect x=\"240\" y=\"20\" width=\"20\" height=\"20\" style=\"fill:white;stroke:black\" /><rect x=\"240\" y=\"40\" width=\"20\" height=\"20\" style=\"fill:white;stroke:black\" /><rect x=\"240\" y=\"60\" width=\"20\" height=\"20\" style=\"fill:white;stroke:black\" /><rect x=\"240\" y=\"80\" width=\"20\" height=\"20\" style=\"fill:white;stroke:black\" /><rect x=\"240\" y=\"100\" width=\"20\" height=\"20\" style=\"fill:white;stroke:black\" /><rect x=\"240\" y=\"120\" width=\"20\" height=\"20\" style=\"fill:white;stroke:black\" /><rect x=\"260\" y=\"0\" width=\"20\" height=\"20\" style=\"fill:grey;stroke:black\" /><rect x=\"260\" y=\"20\" width=\"20\" height=\"20\" style=\"fill:white;stroke:black\" /><rect x=\"260\" y=\"40\" width=\"20\" height=\"20\" style=\"fill:white;stroke:black\" /><rect x=\"260\" y=\"60\" width=\"20\" height=\"20\" style=\"fill:white;stroke:black\" /><rect x=\"260\" y=\"80\" width=\"20\" height=\"20\" style=\"fill:white;stroke:black\" /><rect x=\"260\" y=\"100\" width=\"20\" height=\"20\" style=\"fill:white;stroke:black\" /><rect x=\"260\" y=\"120\" width=\"20\" height=\"20\" style=\"fill:grey;stroke:black\" /><rect x=\"280\" y=\"0\" width=\"20\" height=\"20\" style=\"fill:grey;stroke:black\" /><rect x=\"280\" y=\"20\" width=\"20\" height=\"20\" style=\"fill:grey;stroke:black\" /><rect x=\"280\" y=\"40\" width=\"20\" height=\"20\" style=\"fill:grey;stroke:black\" /><rect x=\"280\" y=\"60\" width=\"20\" height=\"20\" style=\"fill:grey;stroke:black\" /><rect x=\"280\" y=\"80\" width=\"20\" height=\"20\" style=\"fill:grey;stroke:black\" /><rect x=\"280\" y=\"100\" width=\"20\" height=\"20\" style=\"fill:grey;stroke:black\" /><rect x=\"280\" y=\"120\" width=\"20\" height=\"20\" style=\"fill:grey;stroke:black\" /><rect x=\"102\" y=\"22\" width=\"16\" height=\"16\" style=\"fill:green;stroke:green\" /><rect x=\"42\" y=\"22\" width=\"16\" height=\"16\" style=\"fill:green;stroke:green\" /><rect x=\"182\" y=\"22\" width=\"16\" height=\"16\" style=\"fill:green;stroke:green\" /><rect x=\"222\" y=\"22\" width=\"16\" height=\"16\" style=\"fill:green;stroke:green\" /><circle cx=\"70\" cy=\"130\" r=\"8\" fill=\"red\" /><text x=\"65\" y=\"135\" font-family=\"Arial\" font-size=\"15\">A</text><circle cx=\"50\" cy=\"130\" r=\"8\" fill=\"red\" /><text x=\"45\" y=\"135\" font-family=\"Arial\" font-size=\"15\">B</text><circle cx=\"230\" cy=\"130\" r=\"8\" fill=\"red\" /><text x=\"225\" y=\"135\" font-family=\"Arial\" font-size=\"15\">C</text></svg>"
      ],
      "text/plain": [
       "<IPython.core.display.HTML object>"
      ]
     },
     "metadata": {},
     "output_type": "display_data"
    },
    {
     "ename": "AttributeError",
     "evalue": "type object 'MODEL' has no attribute 'restCells'",
     "output_type": "error",
     "traceback": [
      "\u001b[0;31m---------------------------------------------------------------------------\u001b[0m",
      "\u001b[0;31mAttributeError\u001b[0m                            Traceback (most recent call last)",
      "\u001b[0;32m<ipython-input-39-203e89f3edec>\u001b[0m in \u001b[0;36m<module>\u001b[0;34m\u001b[0m\n\u001b[1;32m     13\u001b[0m \u001b[0mmymodel\u001b[0m\u001b[0;34m.\u001b[0m\u001b[0mplot_Nb\u001b[0m\u001b[0;34m(\u001b[0m\u001b[0;34m)\u001b[0m\u001b[0;34m\u001b[0m\u001b[0;34m\u001b[0m\u001b[0m\n\u001b[1;32m     14\u001b[0m \u001b[0;32mfor\u001b[0m \u001b[0mi\u001b[0m \u001b[0;32min\u001b[0m \u001b[0mrange\u001b[0m \u001b[0;34m(\u001b[0m\u001b[0;36m0\u001b[0m\u001b[0;34m,\u001b[0m\u001b[0mt\u001b[0m\u001b[0;34m)\u001b[0m\u001b[0;34m:\u001b[0m\u001b[0;34m\u001b[0m\u001b[0;34m\u001b[0m\u001b[0m\n\u001b[0;32m---> 15\u001b[0;31m     \u001b[0mmymodel\u001b[0m\u001b[0;34m.\u001b[0m\u001b[0mnewStep\u001b[0m\u001b[0;34m(\u001b[0m\u001b[0;34m)\u001b[0m\u001b[0;34m\u001b[0m\u001b[0;34m\u001b[0m\u001b[0m\n\u001b[0m\u001b[1;32m     16\u001b[0m     \u001b[0;32mif\u001b[0m \u001b[0mi\u001b[0m\u001b[0;34m<\u001b[0m\u001b[0;36m4\u001b[0m \u001b[0;34m:\u001b[0m\u001b[0;34m\u001b[0m\u001b[0;34m\u001b[0m\u001b[0m\n\u001b[1;32m     17\u001b[0m         \u001b[0mmymodel\u001b[0m\u001b[0;34m.\u001b[0m\u001b[0magents\u001b[0m\u001b[0;34m.\u001b[0m\u001b[0mappend\u001b[0m\u001b[0;34m(\u001b[0m\u001b[0magents\u001b[0m\u001b[0;34m.\u001b[0m\u001b[0mAGENT\u001b[0m\u001b[0;34m(\u001b[0m\u001b[0mspwan_coord\u001b[0m\u001b[0;34m,\u001b[0m \u001b[0mmymodel\u001b[0m\u001b[0;34m,\u001b[0m\u001b[0mstr\u001b[0m\u001b[0;34m(\u001b[0m\u001b[0mi\u001b[0m\u001b[0;34m)\u001b[0m\u001b[0;34m)\u001b[0m\u001b[0;34m)\u001b[0m\u001b[0;34m\u001b[0m\u001b[0;34m\u001b[0m\u001b[0m\n",
      "\u001b[0;32m~/Bureau/subway-crowd-cellular-automata/model.py\u001b[0m in \u001b[0;36mnewStep\u001b[0;34m(self)\u001b[0m\n\u001b[1;32m     31\u001b[0m         \u001b[0mself\u001b[0m\u001b[0;34m.\u001b[0m\u001b[0mcomputeComfortMatrix\u001b[0m\u001b[0;34m(\u001b[0m\u001b[0;34m)\u001b[0m\u001b[0;34m\u001b[0m\u001b[0;34m\u001b[0m\u001b[0m\n\u001b[1;32m     32\u001b[0m \u001b[0;34m\u001b[0m\u001b[0m\n\u001b[0;32m---> 33\u001b[0;31m         \u001b[0mself\u001b[0m\u001b[0;34m.\u001b[0m\u001b[0mfindGoalForEachAgent\u001b[0m\u001b[0;34m(\u001b[0m\u001b[0;34m)\u001b[0m\u001b[0;34m\u001b[0m\u001b[0;34m\u001b[0m\u001b[0m\n\u001b[0m\u001b[1;32m     34\u001b[0m \u001b[0;34m\u001b[0m\u001b[0m\n\u001b[1;32m     35\u001b[0m         \u001b[0mself\u001b[0m\u001b[0;34m.\u001b[0m\u001b[0mfindNewPosForEachAgent\u001b[0m\u001b[0;34m(\u001b[0m\u001b[0;34m)\u001b[0m\u001b[0;34m\u001b[0m\u001b[0;34m\u001b[0m\u001b[0m\n",
      "\u001b[0;32m~/Bureau/subway-crowd-cellular-automata/model.py\u001b[0m in \u001b[0;36mfindGoalForEachAgent\u001b[0;34m(self)\u001b[0m\n\u001b[1;32m     77\u001b[0m     \u001b[0;32mdef\u001b[0m \u001b[0mfindGoalForEachAgent\u001b[0m\u001b[0;34m(\u001b[0m\u001b[0mself\u001b[0m\u001b[0;34m)\u001b[0m \u001b[0;34m->\u001b[0m \u001b[0;32mNone\u001b[0m \u001b[0;34m:\u001b[0m\u001b[0;34m\u001b[0m\u001b[0;34m\u001b[0m\u001b[0m\n\u001b[1;32m     78\u001b[0m         \u001b[0;32mfor\u001b[0m \u001b[0magent\u001b[0m \u001b[0;32min\u001b[0m \u001b[0mself\u001b[0m\u001b[0;34m.\u001b[0m\u001b[0magents\u001b[0m\u001b[0;34m:\u001b[0m\u001b[0;34m\u001b[0m\u001b[0;34m\u001b[0m\u001b[0m\n\u001b[0;32m---> 79\u001b[0;31m             \u001b[0magent\u001b[0m\u001b[0;34m.\u001b[0m\u001b[0mfindGoal\u001b[0m\u001b[0;34m(\u001b[0m\u001b[0mself\u001b[0m\u001b[0;34m.\u001b[0m\u001b[0mcomfort\u001b[0m\u001b[0;34m)\u001b[0m\u001b[0;34m\u001b[0m\u001b[0;34m\u001b[0m\u001b[0m\n\u001b[0m\u001b[1;32m     80\u001b[0m \u001b[0;34m\u001b[0m\u001b[0m\n\u001b[1;32m     81\u001b[0m     \u001b[0;32mdef\u001b[0m \u001b[0mfindNewPosForEachAgent\u001b[0m\u001b[0;34m(\u001b[0m\u001b[0mself\u001b[0m\u001b[0;34m)\u001b[0m \u001b[0;34m->\u001b[0m \u001b[0;32mNone\u001b[0m\u001b[0;34m:\u001b[0m\u001b[0;34m\u001b[0m\u001b[0;34m\u001b[0m\u001b[0m\n",
      "\u001b[0;32m~/Bureau/subway-crowd-cellular-automata/agents.py\u001b[0m in \u001b[0;36mfindGoal\u001b[0;34m(self, comfort)\u001b[0m\n\u001b[1;32m     28\u001b[0m                 \u001b[0mdistance\u001b[0m\u001b[0;34m[\u001b[0m\u001b[0mx1\u001b[0m\u001b[0;34m,\u001b[0m\u001b[0my2\u001b[0m\u001b[0;34m]\u001b[0m \u001b[0;34m=\u001b[0m \u001b[0mself\u001b[0m\u001b[0;34m.\u001b[0m\u001b[0mdist\u001b[0m\u001b[0;34m(\u001b[0m\u001b[0;34m(\u001b[0m\u001b[0mx1\u001b[0m\u001b[0;34m,\u001b[0m\u001b[0my2\u001b[0m\u001b[0;34m)\u001b[0m\u001b[0;34m)\u001b[0m\u001b[0;34m\u001b[0m\u001b[0;34m\u001b[0m\u001b[0m\n\u001b[1;32m     29\u001b[0m             \u001b[0mself\u001b[0m\u001b[0;34m.\u001b[0m\u001b[0mgoal\u001b[0m \u001b[0;34m=\u001b[0m \u001b[0mmin\u001b[0m\u001b[0;34m(\u001b[0m\u001b[0mdistance\u001b[0m\u001b[0;34m,\u001b[0m \u001b[0mkey\u001b[0m \u001b[0;34m=\u001b[0m \u001b[0mdistance\u001b[0m\u001b[0;34m.\u001b[0m\u001b[0mget\u001b[0m\u001b[0;34m)\u001b[0m\u001b[0;34m\u001b[0m\u001b[0;34m\u001b[0m\u001b[0m\n\u001b[0;32m---> 30\u001b[0;31m         \u001b[0;32mfor\u001b[0m \u001b[0mi\u001b[0m \u001b[0;32min\u001b[0m \u001b[0mMODEL\u001b[0m\u001b[0;34m.\u001b[0m\u001b[0mrestCells\u001b[0m \u001b[0;34m:\u001b[0m\u001b[0;34m\u001b[0m\u001b[0;34m\u001b[0m\u001b[0m\n\u001b[0m\u001b[1;32m     31\u001b[0m             \u001b[0;32mif\u001b[0m \u001b[0mself\u001b[0m\u001b[0;34m.\u001b[0m\u001b[0mpos\u001b[0m \u001b[0;34m==\u001b[0m \u001b[0mi\u001b[0m\u001b[0;34m.\u001b[0m\u001b[0mpos\u001b[0m \u001b[0;34m:\u001b[0m\u001b[0;34m\u001b[0m\u001b[0;34m\u001b[0m\u001b[0m\n\u001b[1;32m     32\u001b[0m                 \u001b[0mself\u001b[0m\u001b[0;34m.\u001b[0m\u001b[0mgoal\u001b[0m \u001b[0;34m=\u001b[0m \u001b[0mself\u001b[0m\u001b[0;34m.\u001b[0m\u001b[0mpos\u001b[0m\u001b[0;34m\u001b[0m\u001b[0;34m\u001b[0m\u001b[0m\n",
      "\u001b[0;31mAttributeError\u001b[0m: type object 'MODEL' has no attribute 'restCells'"
     ]
    }
   ],
   "source": [
    "#our very first wagon :)\n",
    "t = 20\n",
    "spwan_coord=(6,3)\n",
    "\n",
    "mymodel = model.MODEL(7,15)\n",
    "mymodel.verbose = False\n",
    "mymodel.walls[(1,4)] = 1\n",
    "mymodel.walls[(1,3)] = 1\n",
    "mymodel.walls[(1,10)] = 1\n",
    "mymodel.agents = [model.AGENT((6,3),mymodel,\"A\"),model.AGENT((6,2),mymodel,\"B\"),model.AGENT((6,11),mymodel,\"C\")]\n",
    "mymodel.restCells = [model.RESTCELL((1,5),5),model.RESTCELL((1,2),5),model.RESTCELL((1,9),5),model.RESTCELL((1,11),5)]\n",
    "\n",
    "mymodel.plot_Nb()\n",
    "for i in range (0,t):\n",
    "    mymodel.newStep()\n",
    "    if i<4 : \n",
    "        mymodel.agents.append(agents.AGENT(spwan_coord, mymodel,str(i)))\n",
    "    mymodel.clear()\n",
    "    mymodel.plot_Nb()\n",
    "    sleep(1)\n"
   ]
  },
  {
   "cell_type": "code",
   "execution_count": null,
   "id": "cc539d2a",
   "metadata": {},
   "outputs": [
    {
     "data": {
      "text/html": [
       "<svg width=\"240\" height=\"120\"><rect x=\"0\" y=\"0\" width=\"20\" height=\"20\" style=\"fill:grey;stroke:black\" /><rect x=\"0\" y=\"20\" width=\"20\" height=\"20\" style=\"fill:grey;stroke:black\" /><rect x=\"0\" y=\"40\" width=\"20\" height=\"20\" style=\"fill:grey;stroke:black\" /><rect x=\"0\" y=\"60\" width=\"20\" height=\"20\" style=\"fill:grey;stroke:black\" /><rect x=\"0\" y=\"80\" width=\"20\" height=\"20\" style=\"fill:grey;stroke:black\" /><rect x=\"0\" y=\"100\" width=\"20\" height=\"20\" style=\"fill:grey;stroke:black\" /><rect x=\"20\" y=\"0\" width=\"20\" height=\"20\" style=\"fill:grey;stroke:black\" /><rect x=\"20\" y=\"20\" width=\"20\" height=\"20\" style=\"fill:white;stroke:black\" /><rect x=\"20\" y=\"40\" width=\"20\" height=\"20\" style=\"fill:white;stroke:black\" /><rect x=\"20\" y=\"60\" width=\"20\" height=\"20\" style=\"fill:white;stroke:black\" /><rect x=\"20\" y=\"80\" width=\"20\" height=\"20\" style=\"fill:white;stroke:black\" /><rect x=\"20\" y=\"100\" width=\"20\" height=\"20\" style=\"fill:grey;stroke:black\" /><rect x=\"40\" y=\"0\" width=\"20\" height=\"20\" style=\"fill:grey;stroke:black\" /><rect x=\"40\" y=\"20\" width=\"20\" height=\"20\" style=\"fill:white;stroke:black\" /><rect x=\"40\" y=\"40\" width=\"20\" height=\"20\" style=\"fill:white;stroke:black\" /><rect x=\"40\" y=\"60\" width=\"20\" height=\"20\" style=\"fill:white;stroke:black\" /><rect x=\"40\" y=\"80\" width=\"20\" height=\"20\" style=\"fill:white;stroke:black\" /><rect x=\"40\" y=\"100\" width=\"20\" height=\"20\" style=\"fill:white;stroke:black\" /><rect x=\"60\" y=\"0\" width=\"20\" height=\"20\" style=\"fill:grey;stroke:black\" /><rect x=\"60\" y=\"20\" width=\"20\" height=\"20\" style=\"fill:white;stroke:black\" /><rect x=\"60\" y=\"40\" width=\"20\" height=\"20\" style=\"fill:white;stroke:black\" /><rect x=\"60\" y=\"60\" width=\"20\" height=\"20\" style=\"fill:white;stroke:black\" /><rect x=\"60\" y=\"80\" width=\"20\" height=\"20\" style=\"fill:white;stroke:black\" /><rect x=\"60\" y=\"100\" width=\"20\" height=\"20\" style=\"fill:white;stroke:black\" /><rect x=\"80\" y=\"0\" width=\"20\" height=\"20\" style=\"fill:grey;stroke:black\" /><rect x=\"80\" y=\"20\" width=\"20\" height=\"20\" style=\"fill:white;stroke:black\" /><rect x=\"80\" y=\"40\" width=\"20\" height=\"20\" style=\"fill:white;stroke:black\" /><rect x=\"80\" y=\"60\" width=\"20\" height=\"20\" style=\"fill:white;stroke:black\" /><rect x=\"80\" y=\"80\" width=\"20\" height=\"20\" style=\"fill:white;stroke:black\" /><rect x=\"80\" y=\"100\" width=\"20\" height=\"20\" style=\"fill:grey;stroke:black\" /><rect x=\"100\" y=\"0\" width=\"20\" height=\"20\" style=\"fill:grey;stroke:black\" /><rect x=\"100\" y=\"20\" width=\"20\" height=\"20\" style=\"fill:grey;stroke:black\" /><rect x=\"100\" y=\"40\" width=\"20\" height=\"20\" style=\"fill:grey;stroke:black\" /><rect x=\"100\" y=\"60\" width=\"20\" height=\"20\" style=\"fill:white;stroke:black\" /><rect x=\"100\" y=\"80\" width=\"20\" height=\"20\" style=\"fill:grey;stroke:black\" /><rect x=\"100\" y=\"100\" width=\"20\" height=\"20\" style=\"fill:grey;stroke:black\" /><rect x=\"120\" y=\"0\" width=\"20\" height=\"20\" style=\"fill:grey;stroke:black\" /><rect x=\"120\" y=\"20\" width=\"20\" height=\"20\" style=\"fill:white;stroke:black\" /><rect x=\"120\" y=\"40\" width=\"20\" height=\"20\" style=\"fill:white;stroke:black\" /><rect x=\"120\" y=\"60\" width=\"20\" height=\"20\" style=\"fill:white;stroke:black\" /><rect x=\"120\" y=\"80\" width=\"20\" height=\"20\" style=\"fill:white;stroke:black\" /><rect x=\"120\" y=\"100\" width=\"20\" height=\"20\" style=\"fill:grey;stroke:black\" /><rect x=\"140\" y=\"0\" width=\"20\" height=\"20\" style=\"fill:grey;stroke:black\" /><rect x=\"140\" y=\"20\" width=\"20\" height=\"20\" style=\"fill:white;stroke:black\" /><rect x=\"140\" y=\"40\" width=\"20\" height=\"20\" style=\"fill:white;stroke:black\" /><rect x=\"140\" y=\"60\" width=\"20\" height=\"20\" style=\"fill:white;stroke:black\" /><rect x=\"140\" y=\"80\" width=\"20\" height=\"20\" style=\"fill:white;stroke:black\" /><rect x=\"140\" y=\"100\" width=\"20\" height=\"20\" style=\"fill:grey;stroke:black\" /><rect x=\"160\" y=\"0\" width=\"20\" height=\"20\" style=\"fill:grey;stroke:black\" /><rect x=\"160\" y=\"20\" width=\"20\" height=\"20\" style=\"fill:white;stroke:black\" /><rect x=\"160\" y=\"40\" width=\"20\" height=\"20\" style=\"fill:white;stroke:black\" /><rect x=\"160\" y=\"60\" width=\"20\" height=\"20\" style=\"fill:white;stroke:black\" /><rect x=\"160\" y=\"80\" width=\"20\" height=\"20\" style=\"fill:white;stroke:black\" /><rect x=\"160\" y=\"100\" width=\"20\" height=\"20\" style=\"fill:white;stroke:black\" /><rect x=\"180\" y=\"0\" width=\"20\" height=\"20\" style=\"fill:grey;stroke:black\" /><rect x=\"180\" y=\"20\" width=\"20\" height=\"20\" style=\"fill:white;stroke:black\" /><rect x=\"180\" y=\"40\" width=\"20\" height=\"20\" style=\"fill:white;stroke:black\" /><rect x=\"180\" y=\"60\" width=\"20\" height=\"20\" style=\"fill:white;stroke:black\" /><rect x=\"180\" y=\"80\" width=\"20\" height=\"20\" style=\"fill:white;stroke:black\" /><rect x=\"180\" y=\"100\" width=\"20\" height=\"20\" style=\"fill:white;stroke:black\" /><rect x=\"200\" y=\"0\" width=\"20\" height=\"20\" style=\"fill:grey;stroke:black\" /><rect x=\"200\" y=\"20\" width=\"20\" height=\"20\" style=\"fill:white;stroke:black\" /><rect x=\"200\" y=\"40\" width=\"20\" height=\"20\" style=\"fill:white;stroke:black\" /><rect x=\"200\" y=\"60\" width=\"20\" height=\"20\" style=\"fill:white;stroke:black\" /><rect x=\"200\" y=\"80\" width=\"20\" height=\"20\" style=\"fill:white;stroke:black\" /><rect x=\"200\" y=\"100\" width=\"20\" height=\"20\" style=\"fill:grey;stroke:black\" /><rect x=\"220\" y=\"0\" width=\"20\" height=\"20\" style=\"fill:grey;stroke:black\" /><rect x=\"220\" y=\"20\" width=\"20\" height=\"20\" style=\"fill:grey;stroke:black\" /><rect x=\"220\" y=\"40\" width=\"20\" height=\"20\" style=\"fill:grey;stroke:black\" /><rect x=\"220\" y=\"60\" width=\"20\" height=\"20\" style=\"fill:grey;stroke:black\" /><rect x=\"220\" y=\"80\" width=\"20\" height=\"20\" style=\"fill:grey;stroke:black\" /><rect x=\"220\" y=\"100\" width=\"20\" height=\"20\" style=\"fill:grey;stroke:black\" /><rect x=\"22\" y=\"22\" width=\"16\" height=\"16\" style=\"fill:green;stroke:green\" /><rect x=\"22\" y=\"42\" width=\"16\" height=\"16\" style=\"fill:green;stroke:green\" /><rect x=\"82\" y=\"22\" width=\"16\" height=\"16\" style=\"fill:green;stroke:green\" /><rect x=\"82\" y=\"42\" width=\"16\" height=\"16\" style=\"fill:green;stroke:green\" /><rect x=\"202\" y=\"22\" width=\"16\" height=\"16\" style=\"fill:green;stroke:green\" /><rect x=\"202\" y=\"42\" width=\"16\" height=\"16\" style=\"fill:green;stroke:green\" /><rect x=\"82\" y=\"82\" width=\"16\" height=\"16\" style=\"fill:green;stroke:green\" /><rect x=\"122\" y=\"82\" width=\"16\" height=\"16\" style=\"fill:green;stroke:green\" /><rect x=\"122\" y=\"22\" width=\"16\" height=\"16\" style=\"fill:green;stroke:green\" /><rect x=\"122\" y=\"42\" width=\"16\" height=\"16\" style=\"fill:green;stroke:green\" /><circle cx=\"130\" cy=\"90\" r=\"8\" fill=\"red\" /><text x=\"125\" y=\"95\" font-family=\"Arial\" font-size=\"15\">1</text><circle cx=\"90\" cy=\"30\" r=\"8\" fill=\"red\" /><text x=\"85\" y=\"35\" font-family=\"Arial\" font-size=\"15\">2</text><circle cx=\"30\" cy=\"50\" r=\"8\" fill=\"red\" /><text x=\"25\" y=\"55\" font-family=\"Arial\" font-size=\"15\">3</text><circle cx=\"90\" cy=\"50\" r=\"8\" fill=\"red\" /><text x=\"85\" y=\"55\" font-family=\"Arial\" font-size=\"15\">5</text><circle cx=\"30\" cy=\"30\" r=\"8\" fill=\"red\" /><text x=\"25\" y=\"35\" font-family=\"Arial\" font-size=\"15\">4</text><circle cx=\"90\" cy=\"90\" r=\"8\" fill=\"red\" /><text x=\"85\" y=\"95\" font-family=\"Arial\" font-size=\"15\">6</text><circle cx=\"210\" cy=\"50\" r=\"8\" fill=\"red\" /><text x=\"205\" y=\"55\" font-family=\"Arial\" font-size=\"15\">7</text><circle cx=\"210\" cy=\"30\" r=\"8\" fill=\"red\" /><text x=\"205\" y=\"35\" font-family=\"Arial\" font-size=\"15\">8</text><circle cx=\"130\" cy=\"30\" r=\"8\" fill=\"red\" /><text x=\"125\" y=\"35\" font-family=\"Arial\" font-size=\"15\">9</text><circle cx=\"130\" cy=\"50\" r=\"8\" fill=\"red\" /><text x=\"125\" y=\"55\" font-family=\"Arial\" font-size=\"15\">10</text></svg>"
      ],
      "text/plain": [
       "<IPython.core.display.HTML object>"
      ]
     },
     "metadata": {},
     "output_type": "display_data"
    }
   ],
   "source": [
    "#second wagon wagon :)\n",
    "t = 30\n",
    "agent_allowed_to_stand_up = \"yes\"\n",
    "spawn_coord=(5,2)\n",
    "spawn_coord2=(5,8)\n",
    "mymodel = model.MODEL(6,12)\n",
    "mymodel.verbose = False\n",
    "mymodel.walls[(1,5)] = 1\n",
    "mymodel.walls[(2,5)] = 1\n",
    "mymodel.walls[(4,5)] = 1\n",
    "mymodel.agents = [model.AGENT((5,2),mymodel,\"1\"),model.AGENT((5,8),mymodel,\"2\")]\n",
    "mymodel.restCells = [model.RESTCELL((1,1),5),model.RESTCELL((2,1),5),model.RESTCELL((1,4),5),model.RESTCELL((2,4),5),model.RESTCELL((1,10),5),model.RESTCELL((2,10),5),model.RESTCELL((4,4),5),model.RESTCELL((4,6),5),model.RESTCELL((1,6),5),model.RESTCELL((2,6),5)]\n",
    "\n",
    "mymodel.plot_Nb()\n",
    "for i in range (0,t):\n",
    "    mymodel.newStep()\n",
    "    if i<2: \n",
    "        mymodel.agents.append(agents.AGENT(spawn_coord, mymodel,str(i+3)))\n",
    "    if i<6 :\n",
    "        mymodel.agents.append(agents.AGENT(spawn_coord2, mymodel,str(i+5)))\n",
    "    mymodel.clear()\n",
    "    mymodel.plot_Nb()\n",
    "    sleep(1)"
   ]
  },
  {
   "cell_type": "code",
   "execution_count": null,
   "id": "d84138c5",
   "metadata": {},
   "outputs": [],
   "source": []
  },
  {
   "cell_type": "code",
   "execution_count": null,
   "id": "2816d684",
   "metadata": {},
   "outputs": [],
   "source": []
  }
 ],
 "metadata": {
  "kernelspec": {
   "display_name": "Python 3",
   "language": "python",
   "name": "python3"
  },
  "language_info": {
   "codemirror_mode": {
    "name": "ipython",
    "version": 3
   },
   "file_extension": ".py",
   "mimetype": "text/x-python",
   "name": "python",
   "nbconvert_exporter": "python",
   "pygments_lexer": "ipython3",
   "version": "3.6.9"
  }
 },
 "nbformat": 4,
 "nbformat_minor": 5
}
