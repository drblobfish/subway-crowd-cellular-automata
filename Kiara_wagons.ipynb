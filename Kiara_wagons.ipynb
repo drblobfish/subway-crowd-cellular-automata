{
 "cells": [
  {
   "cell_type": "code",
   "execution_count": null,
   "id": "94e64c6e",
   "metadata": {},
   "outputs": [],
   "source": [
    "# These lines allow to work more easily on our module while using the notebook\n",
    "%load_ext autoreload\n",
    "%reload_ext autoreload\n",
    "%autoreload 2\n",
    "import numpy as np\n",
    "from importlib import reload\n",
    "import model\n",
    "import agents \n",
    "from time import sleep "
   ]
  },
  {
   "cell_type": "code",
   "execution_count": 67,
   "id": "9a438736",
   "metadata": {},
   "outputs": [
    {
     "data": {
      "text/html": [
       "<svg width=\"300\" height=\"140\"><rect x=\"0\" y=\"0\" width=\"20\" height=\"20\" style=\"fill:grey;stroke:black\" /><rect x=\"0\" y=\"20\" width=\"20\" height=\"20\" style=\"fill:grey;stroke:black\" /><rect x=\"0\" y=\"40\" width=\"20\" height=\"20\" style=\"fill:grey;stroke:black\" /><rect x=\"0\" y=\"60\" width=\"20\" height=\"20\" style=\"fill:grey;stroke:black\" /><rect x=\"0\" y=\"80\" width=\"20\" height=\"20\" style=\"fill:grey;stroke:black\" /><rect x=\"0\" y=\"100\" width=\"20\" height=\"20\" style=\"fill:grey;stroke:black\" /><rect x=\"0\" y=\"120\" width=\"20\" height=\"20\" style=\"fill:grey;stroke:black\" /><rect x=\"20\" y=\"0\" width=\"20\" height=\"20\" style=\"fill:grey;stroke:black\" /><rect x=\"20\" y=\"20\" width=\"20\" height=\"20\" style=\"fill:white;stroke:black\" /><rect x=\"20\" y=\"40\" width=\"20\" height=\"20\" style=\"fill:white;stroke:black\" /><rect x=\"20\" y=\"60\" width=\"20\" height=\"20\" style=\"fill:white;stroke:black\" /><rect x=\"20\" y=\"80\" width=\"20\" height=\"20\" style=\"fill:white;stroke:black\" /><rect x=\"20\" y=\"100\" width=\"20\" height=\"20\" style=\"fill:white;stroke:black\" /><rect x=\"20\" y=\"120\" width=\"20\" height=\"20\" style=\"fill:grey;stroke:black\" /><rect x=\"40\" y=\"0\" width=\"20\" height=\"20\" style=\"fill:grey;stroke:black\" /><rect x=\"40\" y=\"20\" width=\"20\" height=\"20\" style=\"fill:white;stroke:black\" /><rect x=\"40\" y=\"40\" width=\"20\" height=\"20\" style=\"fill:white;stroke:black\" /><rect x=\"40\" y=\"60\" width=\"20\" height=\"20\" style=\"fill:white;stroke:black\" /><rect x=\"40\" y=\"80\" width=\"20\" height=\"20\" style=\"fill:white;stroke:black\" /><rect x=\"40\" y=\"100\" width=\"20\" height=\"20\" style=\"fill:white;stroke:black\" /><rect x=\"40\" y=\"120\" width=\"20\" height=\"20\" style=\"fill:white;stroke:black\" /><rect x=\"60\" y=\"0\" width=\"20\" height=\"20\" style=\"fill:grey;stroke:black\" /><rect x=\"60\" y=\"20\" width=\"20\" height=\"20\" style=\"fill:grey;stroke:black\" /><rect x=\"60\" y=\"40\" width=\"20\" height=\"20\" style=\"fill:white;stroke:black\" /><rect x=\"60\" y=\"60\" width=\"20\" height=\"20\" style=\"fill:white;stroke:black\" /><rect x=\"60\" y=\"80\" width=\"20\" height=\"20\" style=\"fill:white;stroke:black\" /><rect x=\"60\" y=\"100\" width=\"20\" height=\"20\" style=\"fill:white;stroke:black\" /><rect x=\"60\" y=\"120\" width=\"20\" height=\"20\" style=\"fill:white;stroke:black\" /><rect x=\"80\" y=\"0\" width=\"20\" height=\"20\" style=\"fill:grey;stroke:black\" /><rect x=\"80\" y=\"20\" width=\"20\" height=\"20\" style=\"fill:grey;stroke:black\" /><rect x=\"80\" y=\"40\" width=\"20\" height=\"20\" style=\"fill:white;stroke:black\" /><rect x=\"80\" y=\"60\" width=\"20\" height=\"20\" style=\"fill:white;stroke:black\" /><rect x=\"80\" y=\"80\" width=\"20\" height=\"20\" style=\"fill:white;stroke:black\" /><rect x=\"80\" y=\"100\" width=\"20\" height=\"20\" style=\"fill:white;stroke:black\" /><rect x=\"80\" y=\"120\" width=\"20\" height=\"20\" style=\"fill:grey;stroke:black\" /><rect x=\"100\" y=\"0\" width=\"20\" height=\"20\" style=\"fill:grey;stroke:black\" /><rect x=\"100\" y=\"20\" width=\"20\" height=\"20\" style=\"fill:white;stroke:black\" /><rect x=\"100\" y=\"40\" width=\"20\" height=\"20\" style=\"fill:white;stroke:black\" /><rect x=\"100\" y=\"60\" width=\"20\" height=\"20\" style=\"fill:white;stroke:black\" /><rect x=\"100\" y=\"80\" width=\"20\" height=\"20\" style=\"fill:white;stroke:black\" /><rect x=\"100\" y=\"100\" width=\"20\" height=\"20\" style=\"fill:white;stroke:black\" /><rect x=\"100\" y=\"120\" width=\"20\" height=\"20\" style=\"fill:grey;stroke:black\" /><rect x=\"120\" y=\"0\" width=\"20\" height=\"20\" style=\"fill:grey;stroke:black\" /><rect x=\"120\" y=\"20\" width=\"20\" height=\"20\" style=\"fill:white;stroke:black\" /><rect x=\"120\" y=\"40\" width=\"20\" height=\"20\" style=\"fill:white;stroke:black\" /><rect x=\"120\" y=\"60\" width=\"20\" height=\"20\" style=\"fill:white;stroke:black\" /><rect x=\"120\" y=\"80\" width=\"20\" height=\"20\" style=\"fill:white;stroke:black\" /><rect x=\"120\" y=\"100\" width=\"20\" height=\"20\" style=\"fill:white;stroke:black\" /><rect x=\"120\" y=\"120\" width=\"20\" height=\"20\" style=\"fill:grey;stroke:black\" /><rect x=\"140\" y=\"0\" width=\"20\" height=\"20\" style=\"fill:grey;stroke:black\" /><rect x=\"140\" y=\"20\" width=\"20\" height=\"20\" style=\"fill:white;stroke:black\" /><rect x=\"140\" y=\"40\" width=\"20\" height=\"20\" style=\"fill:white;stroke:black\" /><rect x=\"140\" y=\"60\" width=\"20\" height=\"20\" style=\"fill:white;stroke:black\" /><rect x=\"140\" y=\"80\" width=\"20\" height=\"20\" style=\"fill:white;stroke:black\" /><rect x=\"140\" y=\"100\" width=\"20\" height=\"20\" style=\"fill:white;stroke:black\" /><rect x=\"140\" y=\"120\" width=\"20\" height=\"20\" style=\"fill:grey;stroke:black\" /><rect x=\"160\" y=\"0\" width=\"20\" height=\"20\" style=\"fill:grey;stroke:black\" /><rect x=\"160\" y=\"20\" width=\"20\" height=\"20\" style=\"fill:white;stroke:black\" /><rect x=\"160\" y=\"40\" width=\"20\" height=\"20\" style=\"fill:white;stroke:black\" /><rect x=\"160\" y=\"60\" width=\"20\" height=\"20\" style=\"fill:white;stroke:black\" /><rect x=\"160\" y=\"80\" width=\"20\" height=\"20\" style=\"fill:white;stroke:black\" /><rect x=\"160\" y=\"100\" width=\"20\" height=\"20\" style=\"fill:white;stroke:black\" /><rect x=\"160\" y=\"120\" width=\"20\" height=\"20\" style=\"fill:grey;stroke:black\" /><rect x=\"180\" y=\"0\" width=\"20\" height=\"20\" style=\"fill:grey;stroke:black\" /><rect x=\"180\" y=\"20\" width=\"20\" height=\"20\" style=\"fill:white;stroke:black\" /><rect x=\"180\" y=\"40\" width=\"20\" height=\"20\" style=\"fill:white;stroke:black\" /><rect x=\"180\" y=\"60\" width=\"20\" height=\"20\" style=\"fill:white;stroke:black\" /><rect x=\"180\" y=\"80\" width=\"20\" height=\"20\" style=\"fill:white;stroke:black\" /><rect x=\"180\" y=\"100\" width=\"20\" height=\"20\" style=\"fill:white;stroke:black\" /><rect x=\"180\" y=\"120\" width=\"20\" height=\"20\" style=\"fill:grey;stroke:black\" /><rect x=\"200\" y=\"0\" width=\"20\" height=\"20\" style=\"fill:grey;stroke:black\" /><rect x=\"200\" y=\"20\" width=\"20\" height=\"20\" style=\"fill:grey;stroke:black\" /><rect x=\"200\" y=\"40\" width=\"20\" height=\"20\" style=\"fill:white;stroke:black\" /><rect x=\"200\" y=\"60\" width=\"20\" height=\"20\" style=\"fill:white;stroke:black\" /><rect x=\"200\" y=\"80\" width=\"20\" height=\"20\" style=\"fill:white;stroke:black\" /><rect x=\"200\" y=\"100\" width=\"20\" height=\"20\" style=\"fill:white;stroke:black\" /><rect x=\"200\" y=\"120\" width=\"20\" height=\"20\" style=\"fill:grey;stroke:black\" /><rect x=\"220\" y=\"0\" width=\"20\" height=\"20\" style=\"fill:grey;stroke:black\" /><rect x=\"220\" y=\"20\" width=\"20\" height=\"20\" style=\"fill:white;stroke:black\" /><rect x=\"220\" y=\"40\" width=\"20\" height=\"20\" style=\"fill:white;stroke:black\" /><rect x=\"220\" y=\"60\" width=\"20\" height=\"20\" style=\"fill:white;stroke:black\" /><rect x=\"220\" y=\"80\" width=\"20\" height=\"20\" style=\"fill:white;stroke:black\" /><rect x=\"220\" y=\"100\" width=\"20\" height=\"20\" style=\"fill:white;stroke:black\" /><rect x=\"220\" y=\"120\" width=\"20\" height=\"20\" style=\"fill:white;stroke:black\" /><rect x=\"240\" y=\"0\" width=\"20\" height=\"20\" style=\"fill:grey;stroke:black\" /><rect x=\"240\" y=\"20\" width=\"20\" height=\"20\" style=\"fill:white;stroke:black\" /><rect x=\"240\" y=\"40\" width=\"20\" height=\"20\" style=\"fill:white;stroke:black\" /><rect x=\"240\" y=\"60\" width=\"20\" height=\"20\" style=\"fill:white;stroke:black\" /><rect x=\"240\" y=\"80\" width=\"20\" height=\"20\" style=\"fill:white;stroke:black\" /><rect x=\"240\" y=\"100\" width=\"20\" height=\"20\" style=\"fill:white;stroke:black\" /><rect x=\"240\" y=\"120\" width=\"20\" height=\"20\" style=\"fill:white;stroke:black\" /><rect x=\"260\" y=\"0\" width=\"20\" height=\"20\" style=\"fill:grey;stroke:black\" /><rect x=\"260\" y=\"20\" width=\"20\" height=\"20\" style=\"fill:white;stroke:black\" /><rect x=\"260\" y=\"40\" width=\"20\" height=\"20\" style=\"fill:white;stroke:black\" /><rect x=\"260\" y=\"60\" width=\"20\" height=\"20\" style=\"fill:white;stroke:black\" /><rect x=\"260\" y=\"80\" width=\"20\" height=\"20\" style=\"fill:white;stroke:black\" /><rect x=\"260\" y=\"100\" width=\"20\" height=\"20\" style=\"fill:white;stroke:black\" /><rect x=\"260\" y=\"120\" width=\"20\" height=\"20\" style=\"fill:grey;stroke:black\" /><rect x=\"280\" y=\"0\" width=\"20\" height=\"20\" style=\"fill:grey;stroke:black\" /><rect x=\"280\" y=\"20\" width=\"20\" height=\"20\" style=\"fill:grey;stroke:black\" /><rect x=\"280\" y=\"40\" width=\"20\" height=\"20\" style=\"fill:grey;stroke:black\" /><rect x=\"280\" y=\"60\" width=\"20\" height=\"20\" style=\"fill:grey;stroke:black\" /><rect x=\"280\" y=\"80\" width=\"20\" height=\"20\" style=\"fill:grey;stroke:black\" /><rect x=\"280\" y=\"100\" width=\"20\" height=\"20\" style=\"fill:grey;stroke:black\" /><rect x=\"280\" y=\"120\" width=\"20\" height=\"20\" style=\"fill:grey;stroke:black\" /><rect x=\"102\" y=\"22\" width=\"16\" height=\"16\" style=\"fill:green;stroke:green\" /><rect x=\"42\" y=\"22\" width=\"16\" height=\"16\" style=\"fill:green;stroke:green\" /><rect x=\"182\" y=\"22\" width=\"16\" height=\"16\" style=\"fill:green;stroke:green\" /><rect x=\"222\" y=\"22\" width=\"16\" height=\"16\" style=\"fill:green;stroke:green\" /><circle cx=\"50\" cy=\"30\" r=\"8\" fill=\"red\" /><text x=\"45\" y=\"35\" font-family=\"Arial\" font-size=\"15\">A</text><circle cx=\"110\" cy=\"30\" r=\"8\" fill=\"red\" /><text x=\"105\" y=\"35\" font-family=\"Arial\" font-size=\"15\">B</text><circle cx=\"230\" cy=\"30\" r=\"8\" fill=\"red\" /><text x=\"225\" y=\"35\" font-family=\"Arial\" font-size=\"15\">C</text><circle cx=\"190\" cy=\"30\" r=\"8\" fill=\"red\" /><text x=\"185\" y=\"35\" font-family=\"Arial\" font-size=\"15\">0</text><circle cx=\"110\" cy=\"30\" r=\"8\" fill=\"red\" /><text x=\"105\" y=\"35\" font-family=\"Arial\" font-size=\"15\">1</text><circle cx=\"190\" cy=\"30\" r=\"8\" fill=\"red\" /><text x=\"185\" y=\"35\" font-family=\"Arial\" font-size=\"15\">2</text><circle cx=\"150\" cy=\"70\" r=\"8\" fill=\"red\" /><text x=\"145\" y=\"75\" font-family=\"Arial\" font-size=\"15\">3</text></svg>"
      ],
      "text/plain": [
       "<IPython.core.display.HTML object>"
      ]
     },
     "metadata": {},
     "output_type": "display_data"
    }
   ],
   "source": [
    "#our very first wagon :)\n",
    "t = 20\n",
    "spwan_coord=(6,3)\n",
    "\n",
    "mymodel = model.MODEL(7,15)\n",
    "mymodel.verbose = False\n",
    "mymodel.walls[(1,4)] = 1\n",
    "mymodel.walls[(1,3)] = 1\n",
    "mymodel.walls[(1,10)] = 1\n",
    "mymodel.agents = [model.AGENT((6,3),mymodel,\"A\"),model.AGENT((6,2),mymodel,\"B\"),model.AGENT((6,11),mymodel,\"C\")]\n",
    "mymodel.restCells = [model.RESTCELL((1,5),5),model.RESTCELL((1,2),5),model.RESTCELL((1,9),5),model.RESTCELL((1,11),5)]\n",
    "\n",
    "mymodel.plot_Nb()\n",
    "for i in range (0,t):\n",
    "    mymodel.newStep()\n",
    "    if i<4 : \n",
    "        mymodel.agents.append(agents.AGENT(spwan_coord, mymodel,str(i)))\n",
    "    mymodel.clear()\n",
    "    mymodel.plot_Nb()\n",
    "    sleep(1)\n"
   ]
  },
  {
   "cell_type": "code",
   "execution_count": null,
   "id": "93680cf9",
   "metadata": {},
   "outputs": [],
   "source": [
    "#second wagon wagon :)\n",
    "t = 30\n",
    "agent_allowed_to_stand_up = \"yes\"\n",
    "spawn_coord=(5,2)\n",
    "spawn_coord2=(5,8)\n",
    "mymodel = model.MODEL(6,12)\n",
    "mymodel.verbose = False\n",
    "mymodel.walls[(1,5)] = 1\n",
    "mymodel.walls[(2,5)] = 1\n",
    "mymodel.walls[(4,5)] = 1\n",
    "mymodel.agents = [model.AGENT((5,2),mymodel,\"1\"),model.AGENT((5,8),mymodel,\"2\")]\n",
    "mymodel.restCells = [model.RESTCELL((1,1),5),model.RESTCELL((2,1),5),model.RESTCELL((1,4),5),model.RESTCELL((2,4),5),model.RESTCELL((1,10),5),model.RESTCELL((2,10),5),model.RESTCELL((4,4),5),model.RESTCELL((4,6),5),model.RESTCELL((1,6),5),model.RESTCELL((2,6),5)]\n",
    "\n",
    "mymodel.plot_Nb()\n",
    "for i in range (0,t):\n",
    "    mymodel.newStep()\n",
    "    if i<2: \n",
    "        mymodel.agents.append(agents.AGENT(spawn_coord, mymodel,str(i+3)))\n",
    "    if i<6 :\n",
    "        mymodel.agents.append(agents.AGENT(spawn_coord2, mymodel,str(i+5)))\n",
    "    mymodel.clear()\n",
    "    mymodel.plot_Nb()\n",
    "    sleep(1)"
   ]
  },
  {
   "cell_type": "code",
   "execution_count": null,
   "id": "4a60348e",
   "metadata": {},
   "outputs": [],
   "source": []
  },
  {
   "cell_type": "code",
   "execution_count": null,
   "id": "fbb1a9f4",
   "metadata": {},
   "outputs": [],
   "source": []
  },
  {
   "cell_type": "code",
   "execution_count": null,
   "id": "076ebbf3",
   "metadata": {},
   "outputs": [],
   "source": []
  }
 ],
 "metadata": {
  "kernelspec": {
   "display_name": "Python 3",
   "language": "python",
   "name": "python3"
  },
  "language_info": {
   "codemirror_mode": {
    "name": "ipython",
    "version": 3
   },
   "file_extension": ".py",
   "mimetype": "text/x-python",
   "name": "python",
   "nbconvert_exporter": "python",
   "pygments_lexer": "ipython3",
   "version": "3.6.9"
  }
 },
 "nbformat": 4,
 "nbformat_minor": 5
}
